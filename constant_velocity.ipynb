{
 "cells": [
  {
   "cell_type": "markdown",
   "metadata": {},
   "source": [
    "# 1. Movement with constant velocity"
   ]
  },
  {
   "cell_type": "markdown",
   "metadata": {},
   "source": [
    "\n",
    "\n",
    "\n",
    "\n",
    "\n",
    "\n"
   ]
  },
  {
   "cell_type": "code",
   "execution_count": 1,
   "metadata": {
    "collapsed": true
   },
   "outputs": [],
   "source": [
    "from __future__ import division, print_function, generators\n",
    "import  numpy as np"
   ]
  },
  {
   "cell_type": "markdown",
   "metadata": {},
   "source": [
    "### Parameters\n",
    "\n",
    "The system under consideration is an object traveling under constant velocity. Its motion (in both time and space) can be parametrized as a straight line with intercept $x_0$ and inclination $v$. The position is measured $N$ times at time intervals $dt$, or alternatively at some fixed positions given by $k$ surfaces. "
   ]
  },
  {
   "cell_type": "code",
   "execution_count": 2,
   "metadata": {
    "collapsed": true
   },
   "outputs": [],
   "source": [
    "N = 10\n",
    "dt = 1.\n",
    "v = -10."
   ]
  },
  {
   "cell_type": "markdown",
   "metadata": {},
   "source": [
    "### True trajectory"
   ]
  },
  {
   "cell_type": "code",
   "execution_count": 3,
   "metadata": {
    "collapsed": false
   },
   "outputs": [
    {
     "name": "stdout",
     "output_type": "stream",
     "text": [
      "[ 100.   90.   80.   70.   60.   50.   40.   30.   20.   10.]\n"
     ]
    }
   ],
   "source": [
    "x0 = 100.\n",
    "xtrue = np.empty((N,))\n",
    "xtrue[0] = x0\n",
    "for i in range(1,N):\n",
    "    xtrue[i] = xtrue[i-1] + v*dt\n",
    "print(xtrue)"
   ]
  },
  {
   "cell_type": "markdown",
   "metadata": {},
   "source": [
    "\n",
    "The measurement is noisy and the results are normally distributed with variance $\\sigma^2$. \n",
    "\n",
    "\n",
    "### Measured trajectory"
   ]
  },
  {
   "cell_type": "code",
   "execution_count": 4,
   "metadata": {
    "collapsed": false
   },
   "outputs": [
    {
     "name": "stdout",
     "output_type": "stream",
     "text": [
      "[ 0.  0.  0.  0.  0.  0.  0.  0.  0.  0.]\n",
      "[ 102.32801064   96.72072239   71.63569537   67.70753625   68.68858914   59.32732019   41.56469905   31.83289643    8.86820961    5.10332773]\n"
     ]
    }
   ],
   "source": [
    "xmeas = np.empty((N,))\n",
    "print(xmeas)\n",
    "sigma = 10\n",
    "for i in range(0,N):\n",
    "    xmeas[i] = np.random.normal(xtrue[i], sigma)\n",
    "print(xmeas)"
   ]
  },
  {
   "cell_type": "markdown",
   "metadata": {},
   "source": [
    "## Kalman Filter\n",
    "\n",
    "### System equation\n",
    "In this simplest case the state vector $\\mathbf{p}_k = [x_0, v]$ at surface $k$ is left unchanged by the time evolution of the system. An alternative parametrization is given by the  The deterministic function $\\mathbf{f}_k$ (which has a linear approximation $\\mathbf{F}_k$ that describes how the track parameter would change from one surface to another is just the identity. Additionaly, future track parameters are affected by process noise $\\mathbf{\\delta}_k$. Usually only a subset of the track parameters are affected by process noise. This is expressed by multiplying the matrix representation of process noise with a projection matrix $\\mathbf{P}_k$.\n",
    "The covariance matrix of $\\mathbf{\\delta}_k$ is denoted $\\mathbf{Q}_k$.\n",
    "\n",
    "\n",
    "\n",
    "### Measurement equation\n",
    "\n",
    "The deterministic function $\\mathbf{h}_k$  with linear expansion $\\mathbf{H}_k$ maps the track parameters $\\mathbf{p}_k$ to measurable quantities (p.ex. space time points). The covariance of the measurement noise is denoted $\\mathbf{V}_k$\n",
    "\n",
    "\n",
    "Noattion:\n",
    "[1] Frühwirth, Rudolf, and Meinhard Regler. _Data analysis techniques for high-energy physics_. Vol. 11. Cambridge University Press, 2000."
   ]
  },
  {
   "cell_type": "code",
   "execution_count": 14,
   "metadata": {
    "collapsed": false
   },
   "outputs": [],
   "source": [
    "# estimated track parameters at times k\n",
    "xkal = np.empty((N,))\n",
    "# prediction for new track parameters based on previous ones\n",
    "xpredict = np.empty((N,))\n",
    "# covariance matrices (here only numbers) of the measurements\n",
    "p = np.empty((N,))\n",
    "# Kalman gain matrices\n",
    "K = np.empty((N,))\n",
    "# initial position\n",
    "xpredict[0] = xkal[0] = xmeas[0]\n",
    "# initial variance on prediction\n",
    "p[0] = 20\n",
    "# measurement error\n",
    "r = sigma^2\n",
    "\n",
    "# transformation matrix (from state to measurement)\n",
    "H = 1\n",
    "\n",
    "for i in range(1,N):\n",
    "    # prediction: recursive formula\n",
    "    xpredict[i] = xkal[i-1] + v*dt\n",
    "    p[i] = p[i-1]\n",
    "    # constructing Kalman gain matrix\n",
    "    # in this case, the gain shrinks with each recursion\n",
    "    # makes sense, as one outlier should not influence a prediction based on many points\n",
    "    K[i] = p[i]/(p[i]+r)\n",
    "    # final estimate of local track paramters based on prediction and \n",
    "    # measurement\n",
    "    xkal[i] = xpredict[i] + K[i]*(xmeas[i] - H * xpredict[i])\n",
    "    # update covariance\n",
    "    p[i] = (1-K[i]) * p[i]\n"
   ]
  },
  {
   "cell_type": "markdown",
   "metadata": {},
   "source": [
    "### Plot results"
   ]
  },
  {
   "cell_type": "code",
   "execution_count": 15,
   "metadata": {
    "collapsed": false,
    "scrolled": true
   },
   "outputs": [
    {
     "data": {
      "image/png": "[encoded data removed]",
      "text/plain": [
       "<matplotlib.figure.Figure at 0x457d490>"
      ]
     },
     "metadata": {},
     "output_type": "display_data"
    },
    {
     "data": {
      "image/png": "[encoded data removed]",
      "text/plain": [
       "<matplotlib.figure.Figure at 0x4afce90>"
      ]
     },
     "metadata": {},
     "output_type": "display_data"
    }
   ],
   "source": [
    "%matplotlib inline\n",
    "import matplotlib.pyplot as plot\n",
    "plot.plot(xtrue, 'b-', label = 'True')\n",
    "plot.plot(xmeas, 'rx', label = 'Measuement')\n",
    "plot.plot(xpredict, 'g.',  label = 'Prediction')\n",
    "plot.plot(xkal, 'ko', label = 'Kalman')\n",
    "plot.xlabel('Iteration')\n",
    "plot.ylabel('X')\n",
    "plot.legend()\n",
    "plot.show()\n",
    "plot.subplot(3,1,1)\n",
    "plot.plot(p,'o')\n",
    "plot.ylabel('Prediction cov')\n",
    "plot.subplot(3,1,2)\n",
    "plot.plot(K,'o')\n",
    "plot.ylabel('Kalman gain')\n",
    "plot.xlabel('Iteration')\n",
    "plot.show()\n"
   ]
  },
  {
   "cell_type": "markdown",
   "metadata": {},
   "source": [
    "# 2. Same problem but with unknown velocity\n"
   ]
  },
  {
   "cell_type": "code",
   "execution_count": 33,
   "metadata": {
    "collapsed": false
   },
   "outputs": [],
   "source": [
    "xpredict2 = np.matrix (np.linspace(0,10,N*2).reshape((2, N)))\n",
    "xkal2 = np.matrix (np.linspace(0,10,N*2).reshape((2, N)))\n",
    "# initial position and velocity\n",
    "xpredict2[:,0] = xkal2[:,0] = np.array ( [[xmeas[0]], [np.random.normal(v,1.5) ] ])\n",
    "# initial variance on prediction\n",
    "p2 = np.matrix ( [[20, 0],\n",
    "                    [0, 20]] )\n",
    "# measurement error\n",
    "r = np.matrix([[sigma^2]])\n",
    "\n",
    "# prediction matrix\n",
    "A = np.matrix ( [[1, dt],\n",
    "                 [0, 1]] )\n",
    "# transformation matrix (from measurement to state vector)\n",
    "H = np.matrix ( [[1 , 0]] )\n",
    "\n",
    "for i in range(1,N):\n",
    "    # prediction: recursive formula\n",
    "    xpredict2[:,i] = np.dot(A, xkal2[:,i-1] )\n",
    "    p2 = A*p2*A.T\n",
    "    K2 = np.dot(p2*H.T, np.linalg.inv(H*p2*H.T+r))\n",
    "    xkal2[:,i] = xpredict2[:,i] + K2*(xmeas[i] - H*xpredict2[:,i])\n",
    "    p2 = (np.identity(2)-K2) * p2"
   ]
  },
  {
   "cell_type": "code",
   "execution_count": 29,
   "metadata": {
    "collapsed": false
   },
   "outputs": [
    {
     "data": {
      "text/plain": [
       "matrix([[ 2.,  0.],\n",
       "        [ 0.,  2.]])"
      ]
     },
     "execution_count": 29,
     "metadata": {},
     "output_type": "execute_result"
    }
   ],
   "source": []
  },
  {
   "cell_type": "code",
   "execution_count": 34,
   "metadata": {
    "collapsed": false
   },
   "outputs": [
    {
     "data": {
      "image/png": "[encoded data removed]",
      "text/plain": [
       "<matplotlib.figure.Figure at 0x4589590>"
      ]
     },
     "metadata": {},
     "output_type": "display_data"
    },
    {
     "data": {
      "image/png": "[encoded data removed]",
      "text/plain": [
       "<matplotlib.figure.Figure at 0x49b20d0>"
      ]
     },
     "metadata": {},
     "output_type": "display_data"
    }
   ],
   "source": [
    "plot.plot(xtrue, 'b-', label = 'True')\n",
    "plot.plot(xmeas, 'rx', label = 'Measuement')\n",
    "plot.plot(xpredict2[0].T, 'g.',  label = 'Prediction')\n",
    "plot.plot(xkal2[0].T, 'ko', label = 'Kalman')\n",
    "plot.xlabel('Iteration')\n",
    "plot.ylabel('X')\n",
    "plot.show()\n",
    "\n",
    "plot.axhline(v)\n",
    "plot.plot(xpredict2[1].T, 'g.',  label = 'Prediction')\n",
    "plot.plot(xkal2[1].T, 'ko', label = 'Kalman')\n",
    "plot.xlabel('Iteration')\n",
    "plot.ylabel('Velocity')\n",
    "plot.show()"
   ]
  },
  {
   "cell_type": "markdown",
   "metadata": {},
   "source": [
    "# 3. Same problem but with unknown velocity that is also measured"
   ]
  },
  {
   "cell_type": "markdown",
   "metadata": {},
   "source": [
    "#### In principle should be better than 2. - why isn't ?? Additional measurement (on x_velocity) should improve kalman\\\n",
    "\n",
    "But kalman already knows about the velocity from the transformation matrix A / the initial value we give to xkal and xpredict?\n"
   ]
  },
  {
   "cell_type": "code",
   "execution_count": 10,
   "metadata": {
    "collapsed": false
   },
   "outputs": [
    {
     "name": "stdout",
     "output_type": "stream",
     "text": [
      "[[ 103.60567662   -8.84731285]\n",
      " [  85.49123988  -11.05810798]\n",
      " [  83.38468372   -9.58432119]\n",
      " [  75.63816155  -10.20933536]\n",
      " [  75.13422356  -10.81983608]\n",
      " [  42.14740608  -10.86214536]\n",
      " [  46.26307261   -8.7409006 ]\n",
      " [  49.16011052   -9.47757818]\n",
      " [  10.31606038  -10.27954391]\n",
      " [  30.13114809  -10.88993718]]\n"
     ]
    }
   ],
   "source": [
    "xmeas3 = np.matrix (np.linspace(0,10,N*2).reshape((2, N)))\n",
    "sigma3 = 1\n",
    "for i in range(0,N):\n",
    "    xmeas3[0,i] = np.random.normal(xtrue[i], sigma)\n",
    "    xmeas3[1,i] = np.random.normal(v, sigma3)\n",
    "print(xmeas3.T)"
   ]
  },
  {
   "cell_type": "code",
   "execution_count": 11,
   "metadata": {
    "collapsed": false
   },
   "outputs": [
    {
     "name": "stdout",
     "output_type": "stream",
     "text": [
      "[[ 94.75836377  -8.84731285]]\n",
      "[[ 74.46799632 -11.05834848]]\n",
      "[[ 68.99598243 -10.30083158]]\n",
      "[[ 61.01042002 -10.24847199]]\n",
      "[[ 54.06658806 -10.33712239]]\n",
      "[[ 40.89833311 -10.48686533]]\n",
      "[[ 32.37134241 -10.18240574]]\n",
      "[[ 25.25028598 -10.01635781]]\n",
      "[[ 12.94787292 -10.10973128]]\n"
     ]
    }
   ],
   "source": [
    "xpredict3 = np.matrix (np.linspace(0,10,N*2).reshape((2, N)))\n",
    "xkal3 = np.matrix (np.linspace(0,10,N*2).reshape((2, N)))\n",
    "# initial position\n",
    "xpredict3[:,0] = xkal3[:,0] = np.array ( [[xmeas3[0,0]], [xmeas3[1,0]] ] )\n",
    "# initial variance on prediction\n",
    "p2 = np.matrix ( [[20, 0],\n",
    "                    [0, 20]] )\n",
    "# measurement error\n",
    "r3 = np.matrix([[0.001*sigma*sigma, 0],\n",
    "                 [0  , 0.001*sigma3*sigma3]])\n",
    "\n",
    "# prediction matrix\n",
    "A = np.matrix ( [[1, dt],\n",
    "                    [0, 1]] )\n",
    "# transformation matrix (from measurement to state vector)\n",
    "H3 = np.matrix ( [[1 , 0],\n",
    "                   [0, 1]] )\n",
    "\n",
    "for i in range(1,N):\n",
    "    # prediction: recursive formula\n",
    "    xpredict3[:,i] = np.dot(A, xkal3[:,i-1] )\n",
    "    print(xpredict3[:,i].T)\n",
    "    p2 = A*p2*A.T\n",
    "    K2 = p2*H3.T * np.linalg.inv(H3*p2*H3.T+r3)\n",
    "    xkal3[:,i] = xpredict3[:,i] + K2*(xmeas3[:,i] - H3*xpredict3[:,i])\n",
    "    p2 = (np.identity(2)-K2) * p2"
   ]
  },
  {
   "cell_type": "code",
   "execution_count": 12,
   "metadata": {
    "collapsed": false
   },
   "outputs": [
    {
     "data": {
      "image/png": "[encoded data removed]",
      "text/plain": [
       "<matplotlib.figure.Figure at 0x4d3edd0>"
      ]
     },
     "metadata": {},
     "output_type": "display_data"
    },
    {
     "data": {
      "image/png": "[encoded data removed]",
      "text/plain": [
       "<matplotlib.figure.Figure at 0x4041210>"
      ]
     },
     "metadata": {},
     "output_type": "display_data"
    }
   ],
   "source": [
    "plot.plot(xtrue, 'b-', label = 'True')\n",
    "plot.plot(xmeas3[0].T, 'rx', label = 'Measuement')\n",
    "plot.plot(xpredict3[0].T, 'g.',  label = 'Prediction')\n",
    "plot.plot(xkal3[0].T, 'ko', label = 'Kalman')\n",
    "plot.xlabel('Iteration')\n",
    "plot.ylabel('X')\n",
    "plot.show()\n",
    "\n",
    "plot.axhline(v)\n",
    "plot.plot(xpredict3[1].T, 'g.',  label = 'Prediction')\n",
    "plot.plot(xmeas3[1].T, 'rx', label = 'Measuement')\n",
    "plot.plot(xkal3[1].T, 'ko', label = 'Kalman')\n",
    "plot.xlabel('Iteration')\n",
    "plot.ylabel('Velocity')\n",
    "plot.show()"
   ]
  },
  {
   "cell_type": "code",
   "execution_count": null,
   "metadata": {
    "collapsed": true
   },
   "outputs": [],
   "source": [
    "prin"
   ]
  },
  {
   "cell_type": "code",
   "execution_count": 13,
   "metadata": {
    "collapsed": false
   },
   "outputs": [
    {
     "data": {
      "text/plain": [
       "matrix([[ 1.,  0.],\n",
       "        [ 0.,  1.]])"
      ]
     },
     "execution_count": 13,
     "metadata": {},
     "output_type": "execute_result"
    }
   ],
   "source": [
    "np.linalg.inv(np.matrix([[1,0], [0,1]]))"
   ]
  },
  {
   "cell_type": "code",
   "execution_count": 35,
   "metadata": {
    "collapsed": false
   },
   "outputs": [
    {
     "data": {
      "text/plain": [
       "u'/afs/cern.ch/user/v/vavolkl/moritat'"
      ]
     },
     "execution_count": 35,
     "metadata": {},
     "output_type": "execute_result"
    }
   ],
   "source": [
    "%pwd"
   ]
  },
  {
   "cell_type": "code",
   "execution_count": null,
   "metadata": {
    "collapsed": true
   },
   "outputs": [],
   "source": []
  }
 ],
 "metadata": {
  "kernelspec": {
   "display_name": "Python 2",
   "language": "python",
   "name": "python2"
  },
  "language_info": {
   "codemirror_mode": {
    "name": "ipython",
    "version": 2
   },
   "file_extension": ".py",
   "mimetype": "text/x-python",
   "name": "python",
   "nbconvert_exporter": "python",
   "pygments_lexer": "ipython2",
   "version": "2.7.5"
  }
 },
 "nbformat": 4,
 "nbformat_minor": 0
}
