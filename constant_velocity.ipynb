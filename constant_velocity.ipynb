{
 "cells": [
  {
   "cell_type": "markdown",
   "metadata": {},
   "source": [
    "# 1. Movement with constant velocity"
   ]
  },
  {
   "cell_type": "markdown",
   "metadata": {},
   "source": [
    "State vector <b>x</b> is a position of sth travelling with a constant velocity <b>v</b>. <br\\>\n",
    "Measurement is the very same position <b>z</b>."
   ]
  },
  {
   "cell_type": "code",
   "execution_count": 1,
   "metadata": {
    "collapsed": true
   },
   "outputs": [],
   "source": [
    "import  numpy as np"
   ]
  },
  {
   "cell_type": "markdown",
   "metadata": {},
   "source": [
    "### Parameters"
   ]
  },
  {
   "cell_type": "code",
   "execution_count": 2,
   "metadata": {
    "collapsed": true
   },
   "outputs": [],
   "source": [
    "N = 10\n",
    "dt = 1.\n",
    "v = -10."
   ]
  },
  {
   "cell_type": "markdown",
   "metadata": {},
   "source": [
    "### True trajectory"
   ]
  },
  {
   "cell_type": "code",
   "execution_count": 3,
   "metadata": {
    "collapsed": false
   },
   "outputs": [
    {
     "name": "stdout",
     "output_type": "stream",
     "text": [
      "[ 100.   90.   80.   70.   60.   50.   40.   30.   20.   10.]\n"
     ]
    }
   ],
   "source": [
    "x0 = 100.\n",
    "xtrue = np.empty((N,))\n",
    "xtrue[0] = x0\n",
    "for i in range(1,N):\n",
    "    xtrue[i] = xtrue[i-1] + v*dt\n",
    "print(xtrue)"
   ]
  },
  {
   "cell_type": "markdown",
   "metadata": {},
   "source": [
    "### Measured trajectory"
   ]
  },
  {
   "cell_type": "code",
   "execution_count": 4,
   "metadata": {
    "collapsed": false
   },
   "outputs": [
    {
     "name": "stdout",
     "output_type": "stream",
     "text": [
      "[ 0.  0.  0.  0.  0.  0.  0.  0.  0.  0.]\n",
      "[ 116.91021474   98.80240215   80.28243334   65.8432804    52.14493022   53.10036749   66.3674856    25.75372873   19.89491115   11.21633809]\n"
     ]
    }
   ],
   "source": [
    "xmeas = np.empty((N,))\n",
    "print(xmeas)\n",
    "sigma = 10\n",
    "for i in range(0,N):\n",
    "    xmeas[i] = np.random.normal(xtrue[i], sigma)\n",
    "print(xmeas)"
   ]
  },
  {
   "cell_type": "markdown",
   "metadata": {},
   "source": [
    "## Kalman"
   ]
  },
  {
   "cell_type": "code",
   "execution_count": 5,
   "metadata": {
    "collapsed": false
   },
   "outputs": [],
   "source": [
    "xkal = np.empty((N,))\n",
    "xpredict = np.empty((N,))\n",
    "p = np.empty((N,))\n",
    "K = np.empty((N,))\n",
    "# initial position\n",
    "xpredict[0] = xkal[0] = xmeas[0]\n",
    "# initial variance on prediction\n",
    "p[0] = 20\n",
    "# measurement error\n",
    "r = sigma^2\n",
    "\n",
    "for i in range(1,N):\n",
    "    # prediction: recursive formula\n",
    "    xpredict[i] = xkal[i-1] + v*dt\n",
    "    p[i] = p[i-1]\n",
    "    K[i] = p[i]/(p[i]+r)\n",
    "    xkal[i] = xpredict[i] + K[i]*(xmeas[i] - xpredict[i])\n",
    "    p[i] = (1-K[i]) * p[i]\n"
   ]
  },
  {
   "cell_type": "markdown",
   "metadata": {},
   "source": [
    "### Plot results"
   ]
  },
  {
   "cell_type": "code",
   "execution_count": 6,
   "metadata": {
    "collapsed": false,
    "scrolled": true
   },
   "outputs": [
    {
     "data": {
      "image/png": "[encoded data removed]",
      "text/plain": [
       "<matplotlib.figure.Figure at 0x3d4e510>"
      ]
     },
     "metadata": {},
     "output_type": "display_data"
    },
    {
     "data": {
      "image/png": "[encoded data removed]",
      "text/plain": [
       "<matplotlib.figure.Figure at 0x3d556d0>"
      ]
     },
     "metadata": {},
     "output_type": "display_data"
    }
   ],
   "source": [
    "%matplotlib inline\n",
    "import matplotlib.pyplot as plot\n",
    "plot.plot(xtrue, 'b-', label = 'True')\n",
    "plot.plot(xmeas, 'rx', label = 'Measuement')\n",
    "plot.plot(xpredict, 'g.',  label = 'Prediction')\n",
    "plot.plot(xkal, 'ko', label = 'Kalman')\n",
    "plot.xlabel('Iteration')\n",
    "plot.ylabel('X')\n",
    "plot.legend()\n",
    "plot.show()\n",
    "plot.subplot(3,1,1)\n",
    "plot.plot(p,'o')\n",
    "plot.ylabel('Prediction cov')\n",
    "plot.subplot(3,1,2)\n",
    "plot.plot(K,'o')\n",
    "plot.ylabel('Kalman gain')\n",
    "plot.xlabel('Iteration')\n",
    "plot.show()\n"
   ]
  },
  {
   "cell_type": "markdown",
   "metadata": {},
   "source": [
    "# 2. Same problem but with unknown velocity"
   ]
  },
  {
   "cell_type": "code",
   "execution_count": 7,
   "metadata": {
    "collapsed": false
   },
   "outputs": [],
   "source": [
    "xpredict2 = np.matrix (np.linspace(0,10,N*2).reshape((2, N)))\n",
    "xkal2 = np.matrix (np.linspace(0,10,N*2).reshape((2, N)))\n",
    "# initial position\n",
    "xpredict2[:,0] = xkal2[:,0] = np.array ( [[xmeas[0]], [np.random.normal(v,1.5) ] ])\n",
    "# initial variance on prediction\n",
    "p2 = np.matrix ( [[20, 0],\n",
    "                    [0, 20]] )\n",
    "# measurement error\n",
    "r = np.matrix([[sigma^2]])\n",
    "\n",
    "# prediction matrix\n",
    "A = np.matrix ( [[1, dt],\n",
    "                    [0, 1]] )\n",
    "# transformation matrix (from measurement to state vector)\n",
    "H = np.matrix ( [[1 , 0]] )\n",
    "\n",
    "for i in range(1,N):\n",
    "    # prediction: recursive formula\n",
    "    xpredict2[:,i] = np.array ( [[ xkal2[0,i-1] + xkal2[1,i-1]*dt], [xkal2[1,i-1] ]] )\n",
    "    p2 = A*p2*A.T\n",
    "    K2 = p2*H.T/(H*p2*H.T+r)\n",
    "    xkal2[:,i] = xpredict2[:,i] + K2*(xmeas[i] - H*xpredict2[:,i])\n",
    "    p2 = (np.identity(2)-K2) * p2"
   ]
  },
  {
   "cell_type": "code",
   "execution_count": 8,
   "metadata": {
    "collapsed": false
   },
   "outputs": [
    {
     "data": {
      "image/png": "[encoded data removed]",
      "text/plain": [
       "<matplotlib.figure.Figure at 0x3eff6d0>"
      ]
     },
     "metadata": {},
     "output_type": "display_data"
    },
    {
     "data": {
      "image/png": "[encoded data removed]",
      "text/plain": [
       "<matplotlib.figure.Figure at 0x468a150>"
      ]
     },
     "metadata": {},
     "output_type": "display_data"
    }
   ],
   "source": [
    "plot.plot(xtrue, 'b-', label = 'True')\n",
    "plot.plot(xmeas, 'rx', label = 'Measuement')\n",
    "plot.plot(xpredict2[0].T, 'g.',  label = 'Prediction')\n",
    "plot.plot(xkal2[0].T, 'ko', label = 'Kalman')\n",
    "plot.xlabel('Iteration')\n",
    "plot.ylabel('X')\n",
    "plot.show()\n",
    "\n",
    "plot.axhline(v)\n",
    "plot.plot(xpredict2[1].T, 'g.',  label = 'Prediction')\n",
    "plot.plot(xkal2[1].T, 'ko', label = 'Kalman')\n",
    "plot.xlabel('Iteration')\n",
    "plot.ylabel('Velocity')\n",
    "plot.show()"
   ]
  },
  {
   "cell_type": "markdown",
   "metadata": {},
   "source": [
    "# 3. Same problem but with unknown velocity that is also measured"
   ]
  },
  {
   "cell_type": "markdown",
   "metadata": {},
   "source": [
    "#### In principle should be better than 2. - why isn't ?? Additional measurement (on x_velocity) should improve kalman\n",
    "\n",
    "OK, so we should still need a prediction on v"
   ]
  },
  {
   "cell_type": "code",
   "execution_count": 9,
   "metadata": {
    "collapsed": false
   },
   "outputs": [
    {
     "name": "stdout",
     "output_type": "stream",
     "text": [
      "[[  82.74816592   -9.92108382]\n",
      " [  83.90681406   -9.21461776]\n",
      " [ 101.5948464    -9.89123003]\n",
      " [  76.94676967  -10.47482323]\n",
      " [  63.09491567   -9.0937878 ]\n",
      " [  44.32815407  -10.09768774]\n",
      " [  37.08906734  -11.00341299]\n",
      " [  44.3324362   -10.51442872]\n",
      " [  10.33324708   -8.48205678]\n",
      " [  12.67841917  -11.90394876]]\n"
     ]
    }
   ],
   "source": [
    "xmeas3 = np.matrix (np.linspace(0,10,N*2).reshape((2, N)))\n",
    "sigma3 = 1\n",
    "for i in range(0,N):\n",
    "    xmeas3[0,i] = np.random.normal(xtrue[i], sigma)\n",
    "    xmeas3[1,i] = np.random.normal(v, sigma3)\n",
    "print(xmeas3.T)"
   ]
  },
  {
   "cell_type": "code",
   "execution_count": 10,
   "metadata": {
    "collapsed": false
   },
   "outputs": [
    {
     "name": "stdout",
     "output_type": "stream",
     "text": [
      "[[ 72.8270821   -9.92108382]]\n",
      "[[ 74.64107112  -9.21413705]]\n",
      "[[ 78.46426199  -9.48409818]]\n",
      "[[ 67.80792901  -9.81716683]]\n",
      "[[ 57.21724709  -9.65606105]]\n",
      "[[ 44.57392778  -9.79326229]]\n",
      "[[ 32.74155311 -10.01955225]]\n",
      "[[ 24.29594143 -10.03971735]]\n",
      "[[ 13.08335261  -9.91282435]]\n"
     ]
    }
   ],
   "source": [
    "xpredict3 = np.matrix (np.linspace(0,10,N*2).reshape((2, N)))\n",
    "xkal3 = np.matrix (np.linspace(0,10,N*2).reshape((2, N)))\n",
    "# initial position\n",
    "xpredict3[:,0] = xkal3[:,0] = np.array ( [[xmeas3[0,0]], [xmeas3[1,0]] ] )\n",
    "# initial variance on prediction\n",
    "p2 = np.matrix ( [[20, 0],\n",
    "                    [0, 20]] )\n",
    "# measurement error\n",
    "r3 = np.matrix([[0.001*sigma*sigma, 0],\n",
    "                 [0  , 0.001*sigma3*sigma3]])\n",
    "\n",
    "# prediction matrix\n",
    "A = np.matrix ( [[1, dt],\n",
    "                    [0, 1]] )\n",
    "# transformation matrix (from measurement to state vector)\n",
    "H3 = np.matrix ( [[1 , 0],\n",
    "                   [0, 1]] )\n",
    "\n",
    "for i in range(1,N):\n",
    "    # prediction: recursive formula\n",
    "    xpredict3[:,i] = np.array ( [[ xkal3[0,i-1] + xkal3[1,i-1]*dt], [xkal3[1,i-1] ]] )\n",
    "    print(xpredict3[:,i].T)\n",
    "    p2 = A*p2*A.T\n",
    "    K2 = p2*H3.T * np.linalg.inv(H3*p2*H3.T+r3)\n",
    "    xkal3[:,i] = xpredict3[:,i] + K2*(xmeas3[:,i] - H3*xpredict3[:,i])\n",
    "    p2 = (np.identity(2)-K2) * p2"
   ]
  },
  {
   "cell_type": "code",
   "execution_count": 11,
   "metadata": {
    "collapsed": false
   },
   "outputs": [
    {
     "data": {
      "image/png": "[encoded data removed]",
      "text/plain": [
       "<matplotlib.figure.Figure at 0x46b9b50>"
      ]
     },
     "metadata": {},
     "output_type": "display_data"
    },
    {
     "data": {
      "image/png": "[encoded data removed]",
      "text/plain": [
       "<matplotlib.figure.Figure at 0x4a99e50>"
      ]
     },
     "metadata": {},
     "output_type": "display_data"
    }
   ],
   "source": [
    "plot.plot(xtrue, 'b-', label = 'True')\n",
    "plot.plot(xmeas3[0].T, 'rx', label = 'Measuement')\n",
    "plot.plot(xpredict3[0].T, 'g.',  label = 'Prediction')\n",
    "plot.plot(xkal3[0].T, 'ko', label = 'Kalman')\n",
    "plot.xlabel('Iteration')\n",
    "plot.ylabel('X')\n",
    "plot.show()\n",
    "\n",
    "plot.axhline(v)\n",
    "plot.plot(xpredict3[1].T, 'g.',  label = 'Prediction')\n",
    "plot.plot(xmeas3[1].T, 'rx', label = 'Measuement')\n",
    "plot.plot(xkal3[1].T, 'ko', label = 'Kalman')\n",
    "plot.xlabel('Iteration')\n",
    "plot.ylabel('Velocity')\n",
    "plot.show()"
   ]
  },
  {
   "cell_type": "code",
   "execution_count": null,
   "metadata": {
    "collapsed": true
   },
   "outputs": [],
   "source": []
  },
  {
   "cell_type": "code",
   "execution_count": null,
   "metadata": {
    "collapsed": true
   },
   "outputs": [],
   "source": []
  },
  {
   "cell_type": "code",
   "execution_count": null,
   "metadata": {
    "collapsed": true
   },
   "outputs": [],
   "source": []
  }
 ],
 "metadata": {
  "kernelspec": {
   "display_name": "Python 2",
   "language": "python",
   "name": "python2"
  },
  "language_info": {
   "codemirror_mode": {
    "name": "ipython",
    "version": 2
   },
   "file_extension": ".py",
   "mimetype": "text/x-python",
   "name": "python",
   "nbconvert_exporter": "python",
   "pygments_lexer": "ipython2",
   "version": "2.7.5"
  }
 },
 "nbformat": 4,
 "nbformat_minor": 0
}
