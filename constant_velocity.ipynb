{
 "cells": [
  {
   "cell_type": "markdown",
   "metadata": {},
   "source": [
    "## <u> 1. Movement with constant velocity </u>"
   ]
  },
  {
   "cell_type": "markdown",
   "metadata": {},
   "source": [
    "State vector <b>x</b> is a position of sth travelling with a constant velocity <b>v</b>. <br\\>\n",
    "Measurement is the very same position <b>z</b>."
   ]
  },
  {
   "cell_type": "code",
   "execution_count": 1,
   "metadata": {
    "collapsed": true
   },
   "outputs": [],
   "source": [
    "import numpy"
   ]
  },
  {
   "cell_type": "markdown",
   "metadata": {},
   "source": [
    "### Parameters"
   ]
  },
  {
   "cell_type": "code",
   "execution_count": 2,
   "metadata": {
    "collapsed": true
   },
   "outputs": [],
   "source": [
    "N = 10\n",
    "dt = 1.\n",
    "v = -10."
   ]
  },
  {
   "cell_type": "markdown",
   "metadata": {},
   "source": [
    "### True trajectory"
   ]
  },
  {
   "cell_type": "code",
   "execution_count": 3,
   "metadata": {
    "collapsed": false
   },
   "outputs": [
    {
     "name": "stdout",
     "output_type": "stream",
     "text": [
      "[ 100.   90.   80.   70.   60.   50.   40.   30.   20.   10.]\n"
     ]
    }
   ],
   "source": [
    "x0 = 100.\n",
    "xtrue = numpy.empty((N,))\n",
    "xtrue[0] = x0\n",
    "for i in range(1,N):\n",
    "    xtrue[i] = xtrue[i-1] + v*dt\n",
    "print(xtrue)"
   ]
  },
  {
   "cell_type": "markdown",
   "metadata": {},
   "source": [
    "### Measured trajectory"
   ]
  },
  {
   "cell_type": "code",
   "execution_count": 4,
   "metadata": {
    "collapsed": false
   },
   "outputs": [
    {
     "name": "stdout",
     "output_type": "stream",
     "text": [
      "[ 0.  0.  0.  0.  0.  0.  0.  0.  0.  0.]\n",
      "[ 111.20949542   77.22084639   75.56482159   79.99786467   65.87730803\n",
      "   68.63239005   50.81715565   20.6958633    21.6428296    24.13084612]\n"
     ]
    }
   ],
   "source": [
    "xmeas = numpy.empty((N,))\n",
    "print(xmeas)\n",
    "sigma = 10\n",
    "for i in range(0,N):\n",
    "    xmeas[i] = numpy.random.normal(xtrue[i], sigma)\n",
    "print(xmeas)"
   ]
  },
  {
   "cell_type": "markdown",
   "metadata": {},
   "source": [
    "## Kalman"
   ]
  },
  {
   "cell_type": "code",
   "execution_count": 5,
   "metadata": {
    "collapsed": false
   },
   "outputs": [],
   "source": [
    "xkal = numpy.empty((N,))\n",
    "xpredict = numpy.empty((N,))\n",
    "p = numpy.empty((N,))\n",
    "K = numpy.empty((N,))\n",
    "# initial position\n",
    "xpredict[0] = xkal[0] = xmeas[0]\n",
    "# initial variance on prediction\n",
    "p[0] = 20\n",
    "# measurement error\n",
    "r = sigma^2\n",
    "\n",
    "for i in range(1,N):\n",
    "    # prediction: recursive formula\n",
    "    xpredict[i] = xkal[i-1] + v*dt\n",
    "    p[i] = p[i-1]\n",
    "    K[i] = p[i]/(p[i]+r)\n",
    "    xkal[i] = xpredict[i] + K[i]*(xmeas[i] - xpredict[i])\n",
    "    p[i] = (1-K[i]) * p[i]\n"
   ]
  },
  {
   "cell_type": "markdown",
   "metadata": {},
   "source": [
    "### Plot results"
   ]
  },
  {
   "cell_type": "code",
   "execution_count": 6,
   "metadata": {
    "collapsed": false,
    "scrolled": true
   },
   "outputs": [
    {
     "data": {
      "image/png": "[encoded data removed]",
      "text/plain": [
       "<matplotlib.figure.Figure at 0x7f6200052be0>"
      ]
     },
     "metadata": {},
     "output_type": "display_data"
    },
    {
     "data": {
      "image/png": "[encoded data removed]",
      "text/plain": [
       "<matplotlib.figure.Figure at 0x7f61e6976c88>"
      ]
     },
     "metadata": {},
     "output_type": "display_data"
    }
   ],
   "source": [
    "%matplotlib inline\n",
    "import matplotlib.pyplot as plot\n",
    "plot.plot(xtrue, 'b-', label = 'True')\n",
    "plot.plot(xmeas, 'rx', label = 'Measuement')\n",
    "plot.plot(xpredict, 'g.',  label = 'Prediction')\n",
    "plot.plot(xkal, 'ko', label = 'Kalman')\n",
    "plot.xlabel('Iteration')\n",
    "plot.ylabel('X')\n",
    "plot.legend()\n",
    "plot.show()\n",
    "plot.subplot(3,1,1)\n",
    "plot.plot(p,'o')\n",
    "plot.ylabel('Prediction cov')\n",
    "plot.subplot(3,1,2)\n",
    "plot.plot(K,'o')\n",
    "plot.ylabel('Kalman gain')\n",
    "plot.xlabel('Iteration')\n",
    "plot.show()\n"
   ]
  },
  {
   "cell_type": "markdown",
   "metadata": {},
   "source": [
    "### <u>2. Same problem but with unknown velocity<u\\> "
   ]
  },
  {
   "cell_type": "code",
   "execution_count": 7,
   "metadata": {
    "collapsed": false
   },
   "outputs": [],
   "source": [
    "xpredict2 = numpy.matrix (numpy.linspace(0,10,N*2).reshape((2, N)))\n",
    "xkal2 = numpy.matrix (numpy.linspace(0,10,N*2).reshape((2, N)))\n",
    "# initial position\n",
    "xpredict2[:,0] = xkal2[:,0] = numpy.array ( [[xmeas[0]], [numpy.random.normal(v,1.5) ] ])\n",
    "# initial variance on prediction\n",
    "p2 = numpy.matrix ( [[20, 0],\n",
    "                    [0, 20]] )\n",
    "# measurement error\n",
    "r = numpy.matrix([[sigma^2]])\n",
    "\n",
    "# prediction matrix\n",
    "A = numpy.matrix ( [[1, dt],\n",
    "                    [0, 1]] )\n",
    "# transformation matrix (from measurement to state vector)\n",
    "H = numpy.matrix ( [[1 , 0]] )\n",
    "\n",
    "for i in range(1,N):\n",
    "    # prediction: recursive formula\n",
    "    xpredict2[:,i] = numpy.array ( [[ xkal2[0,i-1] + xkal2[1,i-1]*dt], [xkal2[1,i-1] ]] )\n",
    "    p2 = A*p2*A.T\n",
    "    K2 = p2*H.T/(H*p2*H.T+r)\n",
    "    xkal2[:,i] = xpredict2[:,i] + K2*(xmeas[i] - H*xpredict2[:,i])\n",
    "    p2 = (numpy.identity(2)-K2) * p2"
   ]
  },
  {
   "cell_type": "code",
   "execution_count": 8,
   "metadata": {
    "collapsed": false
   },
   "outputs": [
    {
     "data": {
      "image/png": "[encoded data removed]",
      "text/plain": [
       "<matplotlib.figure.Figure at 0x7f62000526a0>"
      ]
     },
     "metadata": {},
     "output_type": "display_data"
    },
    {
     "data": {
      "image/png": "[encoded data removed]",
      "text/plain": [
       "<matplotlib.figure.Figure at 0x7f61e6925a58>"
      ]
     },
     "metadata": {},
     "output_type": "display_data"
    }
   ],
   "source": [
    "plot.plot(xtrue, 'b-', label = 'True')\n",
    "plot.plot(xmeas, 'rx', label = 'Measuement')\n",
    "plot.plot(xpredict2[0].T, 'g.',  label = 'Prediction')\n",
    "plot.plot(xkal2[0].T, 'ko', label = 'Kalman')\n",
    "plot.xlabel('Iteration')\n",
    "plot.ylabel('X')\n",
    "plot.show()\n",
    "\n",
    "plot.axhline(v)\n",
    "plot.plot(xpredict2[1].T, 'g.',  label = 'Prediction')\n",
    "plot.plot(xkal2[1].T, 'ko', label = 'Kalman')\n",
    "plot.xlabel('Iteration')\n",
    "plot.ylabel('Velocity')\n",
    "plot.show()"
   ]
  },
  {
   "cell_type": "markdown",
   "metadata": {},
   "source": [
    "### <u>3. Same problem but with unknown velocity that is also measured<u\\> "
   ]
  },
  {
   "cell_type": "markdown",
   "metadata": {},
   "source": [
    "#### In principle should be better than 2. - why isn't ?? Additional measurement (on x_velocity) should improve kalman"
   ]
  },
  {
   "cell_type": "code",
   "execution_count": 9,
   "metadata": {
    "collapsed": false
   },
   "outputs": [
    {
     "name": "stdout",
     "output_type": "stream",
     "text": [
      "[[ 106.5691057    -9.99665667]\n",
      " [  73.31172794   -8.87585379]\n",
      " [  62.63017856  -10.15494109]\n",
      " [  90.52327536   -8.53567726]\n",
      " [  42.40358256  -10.69057017]\n",
      " [  74.05425854   -8.2313645 ]\n",
      " [  22.77951981  -11.18514607]\n",
      " [  32.91373662  -11.79571145]\n",
      " [  21.13352033  -10.79564491]\n",
      " [  23.52432576  -10.62110082]]\n"
     ]
    }
   ],
   "source": [
    "xmeas3 = numpy.matrix (numpy.linspace(0,10,N*2).reshape((2, N)))\n",
    "sigma3 = 1\n",
    "for i in range(0,N):\n",
    "    xmeas3[0,i] = numpy.random.normal(xtrue[i], sigma)\n",
    "    xmeas3[1,i] = numpy.random.normal(v, sigma3)\n",
    "print(xmeas3.T)"
   ]
  },
  {
   "cell_type": "code",
   "execution_count": 10,
   "metadata": {
    "collapsed": false
   },
   "outputs": [
    {
     "name": "stdout",
     "output_type": "stream",
     "text": [
      "[[ 96.57244903  -9.99665667]]\n",
      "[[ 42.3539067  -32.13663091]]\n",
      "[[ 94.75462578  10.12242997]]\n",
      "[[ 59.10053047 -12.76656066]]\n",
      "[[ 17.08845545 -27.38748347]]\n",
      "[[ 141.93829202   48.73424687]]\n",
      "[[-167.49109969 -130.34429296]]\n",
      "[[ 340.06472024  188.60866858]]\n",
      "[[-508.00355946 -329.72731987]]\n"
     ]
    }
   ],
   "source": [
    "xpredict3 = numpy.matrix (numpy.linspace(0,10,N*2).reshape((2, N)))\n",
    "xkal3 = numpy.matrix (numpy.linspace(0,10,N*2).reshape((2, N)))\n",
    "# initial position\n",
    "xpredict3[:,0] = xkal3[:,0] = numpy.array ( [[xmeas3[0,0]], [xmeas3[1,0]] ] )\n",
    "# initial variance on prediction\n",
    "p2 = numpy.matrix ( [[20, 0],\n",
    "                    [0, 20]] )\n",
    "# measurement error\n",
    "r3 = numpy.matrix([[0.001*sigma*sigma, 0],\n",
    "                 [0  , 0.001*sigma3*sigma3]])\n",
    "\n",
    "# prediction matrix\n",
    "A = numpy.matrix ( [[1, dt],\n",
    "                    [0, 1]] )\n",
    "# transformation matrix (from measurement to state vector)\n",
    "H3 = numpy.matrix ( [[1 , 0],\n",
    "                   [0, 1]] )\n",
    "\n",
    "for i in range(1,N):\n",
    "    # prediction: recursive formula\n",
    "    xpredict3[:,i] = numpy.array ( [[ xkal3[0,i-1] + xkal3[1,i-1]*dt], [xkal3[1,i-1] ]] )\n",
    "    print(xpredict3[:,i].T)\n",
    "    p2 = A*p2*A.T\n",
    "    K2 = p2*H3.T/(H3*p2*H3.T+r3)\n",
    "    xkal3[:,i] = xpredict3[:,i] + K2*(xmeas3[:,i] - H3*xpredict3[:,i])\n",
    "    p2 = (numpy.identity(2)-K2) * p2"
   ]
  },
  {
   "cell_type": "code",
   "execution_count": 11,
   "metadata": {
    "collapsed": false
   },
   "outputs": [
    {
     "data": {
      "image/png": "[encoded data removed]",
      "text/plain": [
       "<matplotlib.figure.Figure at 0x7f61e67b8518>"
      ]
     },
     "metadata": {},
     "output_type": "display_data"
    },
    {
     "data": {
      "image/png": "[encoded data removed]",
      "text/plain": [
       "<matplotlib.figure.Figure at 0x7f61e684dc88>"
      ]
     },
     "metadata": {},
     "output_type": "display_data"
    }
   ],
   "source": [
    "plot.plot(xtrue, 'b-', label = 'True')\n",
    "plot.plot(xmeas3[0].T, 'rx', label = 'Measuement')\n",
    "plot.plot(xpredict3[0].T, 'g.',  label = 'Prediction')\n",
    "plot.plot(xkal3[0].T, 'ko', label = 'Kalman')\n",
    "plot.xlabel('Iteration')\n",
    "plot.ylabel('X')\n",
    "plot.show()\n",
    "\n",
    "plot.axhline(v)\n",
    "plot.plot(xpredict3[1].T, 'g.',  label = 'Prediction')\n",
    "plot.plot(xmeas3[1].T, 'rx', label = 'Measuement')\n",
    "plot.plot(xkal3[1].T, 'ko', label = 'Kalman')\n",
    "plot.xlabel('Iteration')\n",
    "plot.ylabel('Velocity')\n",
    "plot.show()"
   ]
  }
 ],
 "metadata": {
  "kernelspec": {
   "display_name": "Python 3",
   "language": "python",
   "name": "python3"
  },
  "language_info": {
   "codemirror_mode": {
    "name": "ipython",
    "version": 3
   },
   "file_extension": ".py",
   "mimetype": "text/x-python",
   "name": "python",
   "nbconvert_exporter": "python",
   "pygments_lexer": "ipython3",
   "version": "3.5.0"
  }
 },
 "nbformat": 4,
 "nbformat_minor": 0
}
