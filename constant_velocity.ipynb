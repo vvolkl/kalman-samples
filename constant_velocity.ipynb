{
 "cells": [
  {
   "cell_type": "markdown",
   "metadata": {},
   "source": [
    "# 1. Kalman Filter applied to 1D Movement with constant velocity"
   ]
  },
  {
   "cell_type": "code",
   "execution_count": 1,
   "metadata": {
    "attributes": {
     "classes": [],
     "id": "",
     "n": "1"
    },
    "collapsed": true
   },
   "outputs": [],
   "source": [
    "# allow use of python3 syntax\n",
    "from __future__ import division, print_function, absolute_import\n",
    "import  numpy as np\n",
    "# local script with often used \n",
    "import kalman as k"
   ]
  },
  {
   "cell_type": "code",
   "execution_count": 2,
   "metadata": {
    "attributes": {
     "classes": [],
     "id": "",
     "n": "3"
    },
    "collapsed": true
   },
   "outputs": [],
   "source": [
    "# contents of local file kalman.py\n",
    "# %load kalman.py\n",
    "\n",
    "import numpy as np\n",
    "import matplotlib.pyplot as plt\n",
    "\n",
    "\n",
    "\n",
    "def kalman_predict( A, # transition matrix \n",
    "            r, # measurement error matrix\n",
    "            H, # transformation matrix from state vector to measurement\n",
    "            p, # initial variance on prediction\n",
    "            xkal, # estimated state vector\n",
    "            xpredict, # predicted state vector\n",
    "            xmeas): # measurements\n",
    "    for i in range(1, xkal.shape[0]): # for each measurement do \n",
    "        # prediction: recursive formula\n",
    "        xpredict[:, i] = np.dot(A, xkal[:, i - 1])\n",
    "        # predict covariance  \n",
    "        p = np.dot(np.dot(A, p), A.T)\n",
    "        # construct kalman gain matrix according to prediction equations\n",
    "        # higher gain leads to higher influence of measurement,\n",
    "        # lower gain to higher influence of predicion\n",
    "        K = np.dot(np.dot(p, H.T), np.linalg.inv(np.dot(np.dot(H, p), H.T) + r))\n",
    "        # construct estimate from prediction and gain \n",
    "        xkal[:, i] = xpredict3[:, i] + np.dot(K, (xmeas[:, i] - H*xpredict[:, i]))\n",
    "        # update covariance with gain\n",
    "        p = np.dot(np.identity(K.shape[0]) - K, p)\n",
    "    return xkal, xpredict\n",
    "\n",
    "def plot_results(xkal, xpredict, xmeas, xtrue):\n",
    "    fig1 = plt.figure()\n",
    "    ax1 = plt.axes()\n",
    "    plt.plot(xtrue, 'b-', label = 'True')\n",
    "    plt.plot(xmeas[0].T, 'rx', label = 'Measuement')\n",
    "    plt.plot(xpredict[0].T, 'g.',  label = 'Prediction')\n",
    "    plt.plot(xkal[0].T, 'ko', label = 'Kalman')\n",
    "    plt.xlabel('Iteration')\n",
    "    plt.ylabel('X')\n",
    "\n",
    "    fig2 = plt.figure()\n",
    "    ax2 = plt.axes()\n",
    "    plt.axhline(v)\n",
    "    plt.axhline(np.mean(xmeas[1]))\n",
    "    plt.plot(xpredict[1].T, 'g.',  label = 'Prediction')\n",
    "    plt.plot(xmeas[1].T, 'rx', label = 'Measurement')\n",
    "    plt.plot(xkal[1].T, 'ko', label = 'Kalman')\n",
    "    plt.xlabel('Iteration')\n",
    "    plt.ylabel('Velocity')\n",
    "    return [[fig1, fig2], [ax1, ax2]]\n"
   ]
  },
  {
   "cell_type": "markdown",
   "metadata": {},
   "source": [
    "### Parameters\n",
    "\n",
    "The system under consideration is an object traveling under constant velocity.\n",
    "Its motion (in both time and space) can be parametrized as a straight line with\n",
    "intercept $x_0$ and inclination $v$. The position is measured $N$ times at time\n",
    "intervals $dt$, or alternatively at some fixed positions given by $k$ surfaces."
   ]
  },
  {
   "cell_type": "code",
   "execution_count": 3,
   "metadata": {
    "attributes": {
     "classes": [],
     "id": "",
     "n": "4"
    },
    "collapsed": true
   },
   "outputs": [],
   "source": [
    "# number of measurements\n",
    "N = 10\n",
    "# time step\n",
    "dt = 1.\n",
    "# final time\n",
    "T = N * dt\n",
    "# velocity\n",
    "v = -10."
   ]
  },
  {
   "cell_type": "markdown",
   "metadata": {},
   "source": [
    "### True trajectory"
   ]
  },
  {
   "cell_type": "code",
   "execution_count": 4,
   "metadata": {
    "attributes": {
     "classes": [],
     "id": "",
     "n": "5"
    },
    "collapsed": false
   },
   "outputs": [
    {
     "name": "stdout",
     "output_type": "stream",
     "text": [
      "[ 100.           88.88888889   77.77777778   66.66666667   55.55555556   44.44444444   33.33333333   22.22222222   11.11111111    0.        ]\n"
     ]
    }
   ],
   "source": [
    "# initial position\n",
    "x0 = 100.\n",
    "# elementwise add offset x0 to array of positions at different times\n",
    "xtrue = x0 + v *  np.linspace(0, T, N)\n",
    "print(xtrue)"
   ]
  },
  {
   "cell_type": "markdown",
   "metadata": {},
   "source": [
    "The measurement is noisy and the results are normally distributed with variance\n",
    "$\\sigma^2$.\n",
    "\n",
    "\n",
    "### Measured trajectory"
   ]
  },
  {
   "cell_type": "code",
   "execution_count": 5,
   "metadata": {
    "attributes": {
     "classes": [],
     "id": "",
     "n": "6"
    },
    "collapsed": false
   },
   "outputs": [
    {
     "name": "stdout",
     "output_type": "stream",
     "text": [
      "[ 98.99988197  82.47115689  68.76784557  73.61613659  64.74525529  44.36931938  48.29768791  33.66360865  25.0066064   -0.85944839]\n"
     ]
    }
   ],
   "source": [
    "sigma = 10\n",
    "noise = np.random.normal(loc=0, scale=sigma, size=xtrue.shape)\n",
    "xmeas = xtrue + noise\n",
    "print(xmeas)"
   ]
  },
  {
   "cell_type": "markdown",
   "metadata": {},
   "source": [
    "## Kalman Filter\n",
    "\n",
    "### System equation\n",
    "In this simplest case the state vector $\\mathbf{p}_k = [x_0, v]$ at surface $k$\n",
    "is left unchanged by the time evolution of the system. An alternative\n",
    "parametrization is given by the  The deterministic function $\\mathbf{f}_k$\n",
    "(which has a linear approximation $\\mathbf{F}_k$ that describes how the track\n",
    "parameter would change from one surface to another is just the identity.\n",
    "Additionaly, future track parameters are affected by process noise\n",
    "$\\mathbf{\\delta}_k$. Usually only a subset of the track parameters are affected\n",
    "by process noise. This is expressed by multiplying the matrix representation of\n",
    "process noise with a projection matrix $\\mathbf{P}_k$.\n",
    "The covariance matrix of $\\mathbf{\\delta}_k$ is denoted $\\mathbf{Q}_k$.\n",
    "\n",
    "\n",
    "\n",
    "### Measurement equation\n",
    "\n",
    "The deterministic function $\\mathbf{h}_k$  with linear expansion $\\mathbf{H}_k$\n",
    "maps the track parameters $\\mathbf{p}_k$ to measurable quantities (p.ex. space\n",
    "time points). The covariance of the measurement noise is denoted $\\mathbf{V}_k$\n",
    "\n",
    "\n",
    "Noattion:\n",
    "[1] Frühwirth, Rudolf, and Meinhard Regler. _Data analysis techniques for high-\n",
    "energy physics_. Vol. 11. Cambridge University Press, 2000."
   ]
  },
  {
   "cell_type": "code",
   "execution_count": 6,
   "metadata": {
    "attributes": {
     "classes": [],
     "id": "",
     "n": "7"
    },
    "collapsed": true
   },
   "outputs": [],
   "source": [
    "# estimated track parameters at times k\n",
    "xkal = np.zeros(xmeas.shape)\n",
    "# prediction for new track parameters based on previous ones\n",
    "xpredict = np.zeros(xmeas.shape)\n",
    "# covariance matrices (here only numbers) of the measurements\n",
    "p = np.zeros(xmeas.shape)\n",
    "# Kalman gain matrices\n",
    "K = np.zeros(xmeas.shape)\n",
    "# initial position\n",
    "xpredict[0] = xkal[0] = xmeas[0]\n",
    "# initial variance on prediction\n",
    "p[0] = 20\n",
    "# measurement error\n",
    "r = sigma**2\n",
    "\n",
    "# transformation matrix (from state to measurement)\n",
    "H = 1\n",
    "\n",
    "for i in range(1, N):\n",
    "    # prediction: recursive formula\n",
    "    xpredict[i] = xkal[i - 1] + v * dt\n",
    "    p[i] = p[i - 1]\n",
    "    # constructing Kalman gain matrix\n",
    "    # in this case, the gain shrinks with each recursion\n",
    "    # makes sense, as one outlier should not influence a prediction based on many points\n",
    "    K[i] = p[i] / (p[i] + r)\n",
    "    # final estimate of local track paramters based on prediction and \n",
    "    # measurement\n",
    "    xkal[i] = xpredict[i] + K[i] * (xmeas[i] - H * xpredict[i])\n",
    "    # update covariance\n",
    "    p[i] = (1 - K[i]) * p[i]\n"
   ]
  },
  {
   "cell_type": "markdown",
   "metadata": {},
   "source": [
    "### Plot results"
   ]
  },
  {
   "cell_type": "code",
   "execution_count": 7,
   "metadata": {
    "attributes": {
     "classes": [],
     "id": "",
     "n": "8"
    },
    "collapsed": false
   },
   "outputs": [
    {
     "data": {
      "image/png": "[encoded data removed]",
      "text/plain": [
       "<matplotlib.figure.Figure at 0x7f45d3fc2f50>"
      ]
     },
     "metadata": {},
     "output_type": "display_data"
    },
    {
     "data": {
      "image/png": "[encoded data removed]",
      "text/plain": [
       "<matplotlib.figure.Figure at 0x7f45d073cc90>"
      ]
     },
     "metadata": {},
     "output_type": "display_data"
    }
   ],
   "source": [
    "%matplotlib inline\n",
    "import matplotlib.pyplot as plot\n",
    "plot.plot(xtrue, 'b-', label = 'True')\n",
    "plot.plot(xmeas, 'rx', label = 'Measuement')\n",
    "plot.plot(xpredict, 'g.',  label = 'Prediction')\n",
    "plot.plot(xkal, 'ko', label = 'Kalman')\n",
    "plot.xlabel('Iteration')\n",
    "plot.ylabel('X')\n",
    "plot.legend()\n",
    "plot.show()\n",
    "plot.subplot(3,1,1)\n",
    "plot.plot(p,'o')\n",
    "plot.ylabel('Prediction cov')\n",
    "plot.subplot(3,1,2)\n",
    "plot.plot(K,'o')\n",
    "plot.ylabel('Kalman gain')\n",
    "plot.xlabel('Iteration')\n",
    "plot.show()\n"
   ]
  },
  {
   "cell_type": "markdown",
   "metadata": {},
   "source": [
    "# 2. Same problem but with unknown velocity"
   ]
  },
  {
   "cell_type": "code",
   "execution_count": 9,
   "metadata": {
    "attributes": {
     "classes": [],
     "id": "",
     "n": "9"
    },
    "collapsed": true
   },
   "outputs": [],
   "source": [
    "xpredict2 = np.matrix (np.linspace(0,10,N*2).reshape((2, N)))\n",
    "xkal2 = np.matrix (np.linspace(0,10,N*2).reshape((2, N)))\n",
    "# initial position and velocity\n",
    "xpredict2[:,0] = xkal2[:,0] = np.array ( [[xmeas[0]], [np.random.normal(v,1.5) ] ])\n",
    "# initial variance on prediction\n",
    "p2 = np.matrix ( [[20, 0],\n",
    "                    [0, 20]] )\n",
    "# measurement error\n",
    "r = np.matrix([[sigma^2]])\n",
    "\n",
    "# prediction matrix\n",
    "A = np.matrix ( [[1, dt],\n",
    "                 [0, 1]] )\n",
    "# transformation matrix (from measurement to state vector)\n",
    "H = np.matrix ( [[1 , 0]] )\n",
    "\n",
    "for i in range(1,N):\n",
    "    # prediction: recursive formula\n",
    "    xpredict2[:,i] = np.dot(A, xkal2[:,i-1] )\n",
    "    p2 = A*p2*A.T\n",
    "    K2 = np.dot(p2*H.T, np.linalg.inv(H*p2*H.T+r))\n",
    "    xkal2[:,i] = xpredict2[:,i] + K2*(xmeas[i] - H*xpredict2[:,i])\n",
    "    p2 = (np.identity(2)-K2) * p2"
   ]
  },
  {
   "cell_type": "code",
   "execution_count": 10,
   "metadata": {
    "attributes": {
     "classes": [],
     "id": "",
     "n": "10"
    },
    "collapsed": false
   },
   "outputs": [
    {
     "data": {
      "image/png": "[encoded data removed]",
      "text/plain": [
       "<matplotlib.figure.Figure at 0x36138d0>"
      ]
     },
     "metadata": {},
     "output_type": "display_data"
    },
    {
     "data": {
      "image/png": "[encoded data removed]",
      "text/plain": [
       "<matplotlib.figure.Figure at 0x3a4f790>"
      ]
     },
     "metadata": {},
     "output_type": "display_data"
    }
   ],
   "source": [
    "plot.plot(xtrue, 'b-', label = 'True')\n",
    "plot.plot(xmeas, 'rx', label = 'Measuement')\n",
    "plot.plot(xpredict2[0].T, 'g.',  label = 'Prediction')\n",
    "plot.plot(xkal2[0].T, 'ko', label = 'Kalman')\n",
    "plot.xlabel('Iteration')\n",
    "plot.ylabel('X')\n",
    "plot.show()\n",
    "\n",
    "plot.axhline(v)\n",
    "plot.plot(xpredict2[1].T, 'g.',  label = 'Prediction')\n",
    "plot.plot(xkal2[1].T, 'ko', label = 'Kalman')\n",
    "plot.xlabel('Iteration')\n",
    "plot.ylabel('Velocity')\n",
    "plot.show()"
   ]
  },
  {
   "cell_type": "markdown",
   "metadata": {},
   "source": [
    "# 3. Same problem but with unknown velocity that is also measured\n",
    "\n",
    "#### In principle should be better than 2. - why isn't ?? Additional measurement\n",
    "(on x_velocity) should improve kalman\\\n",
    "\n",
    "But kalman already knows about the velocity from the transformation matrix A /\n",
    "the initial value we give to xkal and xpredict?"
   ]
  },
  {
   "cell_type": "code",
   "execution_count": 11,
   "metadata": {
    "attributes": {
     "classes": [],
     "id": "",
     "n": "11"
    },
    "collapsed": false
   },
   "outputs": [
    {
     "name": "stdout",
     "output_type": "stream",
     "text": [
      "[[ 101.6068189    -8.62422687]\n",
      " [  64.70558286   -9.09470831]\n",
      " [  82.97479997   -8.55224501]\n",
      " [  75.81386883  -10.62336841]\n",
      " [  64.06735211   -9.72975014]\n",
      " [  50.86595147   -9.90467817]\n",
      " [  40.47985454  -10.34350299]\n",
      " [  22.92043731   -8.55127939]\n",
      " [  28.56161561  -10.89013509]\n",
      " [  10.57449788  -11.62197417]]\n"
     ]
    }
   ],
   "source": [
    "xmeas3 = np.matrix (np.linspace(0,10,N*2).reshape((2, N)))\n",
    "sigma3 = 1\n",
    "for i in range(0,N):\n",
    "    xmeas3[0,i] = np.random.normal(xtrue[i], sigma)\n",
    "    xmeas3[1,i] = np.random.normal(v, sigma3)\n",
    "print(xmeas3.T)"
   ]
  },
  {
   "cell_type": "code",
   "execution_count": 12,
   "metadata": {
    "attributes": {
     "classes": [],
     "id": "",
     "n": "12"
    },
    "collapsed": true
   },
   "outputs": [],
   "source": [
    "xpredict3 = np.matrix (np.linspace(0,10,N*2).reshape((2, N)))\n",
    "xkal3 = np.matrix (np.linspace(0,10,N*2).reshape((2, N)))\n",
    "# initial position\n",
    "xpredict3[:,0] = xkal3[:,0] = np.array ( [[xmeas3[0,0]], [xmeas3[1,0]] ] )\n",
    "# initial variance on prediction\n",
    "p2 = np.matrix ( [[20, 0],\n",
    "                    [0, 20]] )\n",
    "# measurement error\n",
    "r3 = np.matrix([[0.001*sigma*sigma, 0],\n",
    "                 [0  , 0.001*sigma3*sigma3]])\n",
    "\n",
    "# prediction matrix\n",
    "A = np.matrix ( [[1, dt],\n",
    "                    [0, 1]] )\n",
    "# transformation matrix (from measurement to state vector)\n",
    "H3 = np.matrix ( [[1 , 0],\n",
    "                   [0, 1]] )\n",
    "\n",
    "xkal3, xpredict3 = k.kalman_predict(A, r3, H3, p2, xkal3, xpredict3, xmeas3)\n"
   ]
  },
  {
   "cell_type": "code",
   "execution_count": 13,
   "metadata": {
    "attributes": {
     "classes": [],
     "id": "",
     "n": "13"
    },
    "collapsed": false
   },
   "outputs": [
    {
     "data": {
      "image/png": "[encoded data removed]",
      "text/plain": [
       "<matplotlib.figure.Figure at 0x349a2d0>"
      ]
     },
     "metadata": {},
     "output_type": "display_data"
    },
    {
     "data": {
      "image/png": "[encoded data removed]",
      "text/plain": [
       "<matplotlib.figure.Figure at 0x3bdc390>"
      ]
     },
     "metadata": {},
     "output_type": "display_data"
    }
   ],
   "source": [
    "figs = plot_results(xkal3, xpredict3, xmeas3, xtrue)\n",
    "plt.show()"
   ]
  }
 ],
 "metadata": {
  "kernelspec": {
   "display_name": "Python 2",
   "language": "python",
   "name": "python2"
  },
  "language_info": {
   "codemirror_mode": {
    "name": "ipython",
    "version": 2
   },
   "file_extension": ".py",
   "mimetype": "text/x-python",
   "name": "python",
   "nbconvert_exporter": "python",
   "pygments_lexer": "ipython2",
   "version": "2.7.10"
  }
 },
 "nbformat": 4,
 "nbformat_minor": 0
}
