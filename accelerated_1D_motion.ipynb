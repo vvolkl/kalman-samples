{
 "cells": [
  {
   "cell_type": "markdown",
   "metadata": {},
   "source": [
    "# 1. Movement with constant acceleration"
   ]
  },
  {
   "cell_type": "markdown",
   "metadata": {},
   "source": [
    "\n",
    "\n",
    "\n",
    "\n",
    "\n",
    "\n"
   ]
  },
  {
   "cell_type": "code",
   "execution_count": 1,
   "metadata": {
    "collapsed": true
   },
   "outputs": [],
   "source": [
    "from __future__ import division, print_function, generators\n",
    "import  numpy as np\n",
    "import kalman as k"
   ]
  },
  {
   "cell_type": "code",
   "execution_count": 2,
   "metadata": {
    "collapsed": true
   },
   "outputs": [],
   "source": [
    "%matplotlib inline"
   ]
  },
  {
   "cell_type": "code",
   "execution_count": null,
   "metadata": {
    "collapsed": true
   },
   "outputs": [],
   "source": [
    "# %load kalman.py\n",
    "\n",
    "import numpy as np\n",
    "import matplotlib.pyplot as plt\n",
    "\n",
    "\n",
    "\n",
    "def kalman_predict( A, # transition matrix \n",
    "            r, # measurement error matrix\n",
    "            H, # transformation matrix from state vector to measurement\n",
    "            p, # initial variance on prediction\n",
    "            xkal, # estimated state vector\n",
    "            xpredict, # predicted state vector\n",
    "            xmeas): # measurements\n",
    "    for i in range(1, xkal.shape[1]): # for each measurement do \n",
    "        # prediction: recursive formula\n",
    "        xpredict[:, i] = np.dot(A, xkal[:, i - 1])\n",
    "        # predict covariance  \n",
    "        p = A*p*A.T\n",
    "        # construct kalman gain matrix according to prediction equations\n",
    "        # higher gain leads to higher influence of measurement,\n",
    "        # lower gain to higher influence of predicion\n",
    "        K = np.dot(p*H.T, np.linalg.inv(H*p*H.T + r))\n",
    "        # construct estimate from prediction and gain \n",
    "        xkal[:, i] = xpredict[:, i] + K*(xmeas[:, i] - H*xpredict[:, i])\n",
    "        # update covariance with gain\n",
    "        p = (np.identity(K.shape[0]) - K) * p\n",
    "    return xkal, xpredict\n",
    "\n",
    "def plot_results(xkal, xpredict, xmeas, xtrue):\n",
    "    fig1 = plt.figure()\n",
    "    ax1 = plt.axes()\n",
    "    plt.plot(xtrue, 'b-', label = 'True')\n",
    "    plt.plot(xmeas[0].T, 'rx', label = 'Measuement')\n",
    "    plt.plot(xpredict[0].T, 'g.',  label = 'Prediction')\n",
    "    plt.plot(xkal[0].T, 'ko', label = 'Kalman')\n",
    "    plt.xlabel('Iteration')\n",
    "    plt.ylabel('X')\n",
    "\n",
    "    fig2 = plt.figure()\n",
    "    ax2 = plt.axes()\n",
    "    plt.axhline(v)\n",
    "    #plt.axhline(np.mean(xmeas[1]))\n",
    "    plt.plot(xpredict[1].T, 'g.',  label = 'Prediction')\n",
    "    plt.plot(xmeas[1].T, 'rx', label = 'Measurement')\n",
    "    plt.plot(xkal[1].T, 'ko', label = 'Kalman')\n",
    "    plt.xlabel('Iteration')\n",
    "    plt.ylabel('Velocity')\n",
    "    return [[fig1, fig2], [ax1, ax2]]\n"
   ]
  },
  {
   "cell_type": "markdown",
   "metadata": {},
   "source": [
    "## Free fall motion"
   ]
  },
  {
   "cell_type": "code",
   "execution_count": 68,
   "metadata": {
    "collapsed": false
   },
   "outputs": [
    {
     "name": "stdout",
     "output_type": "stream",
     "text": [
      "[[  94.46332605    8.24974155  -19.85996445]\n",
      " [  97.9668519    10.56811529  -19.63918405]\n",
      " [  94.54558544   10.68890736  -20.09912354]\n",
      " [ 110.62000944   10.07398751  -19.8805482 ]\n",
      " [  85.02315485    9.82460757  -20.10672677]\n",
      " [  86.35776913   10.55215932  -20.22839253]\n",
      " [  66.79275148   10.70883916  -19.59062191]\n",
      " [  75.53725955   10.61553048  -17.85108596]\n",
      " [  49.61556922   10.25673722  -19.54058185]\n",
      " [  53.50284032    6.74045141  -19.42439027]]\n"
     ]
    },
    {
     "data": {
      "text/plain": [
       "[<matplotlib.lines.Line2D at 0x8950410>]"
      ]
     },
     "execution_count": 68,
     "metadata": {},
     "output_type": "execute_result"
    },
    {
     "data": {
      "image/png": "[encoded data removed]",
      "text/plain": [
       "<matplotlib.figure.Figure at 0x8b67e50>"
      ]
     },
     "metadata": {},
     "output_type": "display_data"
    }
   ],
   "source": [
    "# number of measurements\n",
    "N = 10\n",
    "x0 = 100\n",
    "dt = 0.2\n",
    "\n",
    "# position, velocity and acceleration\n",
    "state_vec_dim = 3\n",
    "\n",
    "# parabola with some curvature g \n",
    "g = -20\n",
    "v=10\n",
    "sigma = 1\n",
    "sigma3 = 1\n",
    "sigma4 = 10.\n",
    "\n",
    "xtrue4 = g  * np.linspace(0,2, N)**2 + v * np.linspace(0,2, N) + x0\n",
    "\n",
    "\n",
    "\n",
    "xmeas4 = np.matrix(np.linspace(0, 10, N*state_vec_dim).reshape((state_vec_dim, N)))\n",
    "\n",
    "for i in range(0, N):\n",
    "    xmeas4[0,i] = np.random.normal(xtrue4[i], sigma4)\n",
    "    xmeas4[1,i] = np.random.normal(v, sigma)\n",
    "    xmeas4[2,i] = np.random.normal(g, sigma)\n",
    "print(xmeas4.T)\n",
    "plt.plot(xtrue4)\n",
    "plt.plot(xmeas4[0].T, 'rx')"
   ]
  },
  {
   "cell_type": "code",
   "execution_count": 73,
   "metadata": {
    "collapsed": false
   },
   "outputs": [
    {
     "name": "stdout",
     "output_type": "stream",
     "text": [
      "(3, 10)\n",
      "(3, 10)\n",
      "[[ 96.11327436   4.27774866 -19.85996445]]\n",
      "[[ 98.80539633   0.64586174 -19.85996445]]\n",
      "[[ 94.86841067 -10.12441859 -21.06408101]]\n",
      "[[ 108.61531845   14.77135938  -12.15386324]]\n",
      "[[ 89.2145791  -27.70329856 -30.40004753]]\n",
      "[[ 81.1272527  -38.33198028 -33.11508233]]\n",
      "[[ 61.12571892 -67.34142796 -48.48833114]]\n",
      "[[ 59.82201812 -54.85919076 -32.56960466]]\n",
      "[[ 40.41550444 -76.46505707 -43.27054385]]\n"
     ]
    }
   ],
   "source": [
    "xpredict4 = np.matrix (np.linspace(0,2,N*state_vec_dim).reshape((state_vec_dim, N)))\n",
    "xkal4 = np.matrix (np.linspace(0,2,N*state_vec_dim).reshape((state_vec_dim, N)))\n",
    "# initial position\n",
    "print(xpredict4.shape)\n",
    "print(xkal4.shape)\n",
    "xpredict4[:,0] = xkal4[:,0] = np.array ( [[xmeas4[0,0]], [xmeas4[1,0]], [xmeas4[2,0]] ] )\n",
    "# initial variance on prediction\n",
    "p4 = np.matrix ( [[20, 0, 0],\n",
    "                    [0, 20, 0],\n",
    "                    [0,0,20]] )\n",
    "# measurement error\n",
    "r4 = np.matrix([[sigma4*0.1, 0, 0],\n",
    "                 [0  , 0.001*sigma3*sigma3,0],\n",
    "                [0,0, sigma4*0.001]])\n",
    "\n",
    "# prediction matrix\n",
    "A4 = np.matrix ( [[1, dt, 0],\n",
    "                [0, 1, dt],\n",
    "                [0, 0, 1]] )\n",
    "# transformation matrix (from measurement to state vector)\n",
    "H4 = np.matrix ( [[1 , 0, 0],\n",
    "                   [0, 0, 0],\n",
    "                    [0,0,0]] )\n",
    "\n",
    "for i in range(1,N):\n",
    "    # prediction: recursive formula\n",
    "    xpredict4[:,i] = np.dot(A4, xkal4[:,i-1] )\n",
    "    print(xpredict4[:,i].T)\n",
    "    p4 = A4*p4*A4.T\n",
    "    K4 = p4*H4.T * np.linalg.inv(H4*p4*H4.T+r4)\n",
    "    xkal4[:,i] = xpredict4[:,i] + K4*(xmeas4[:,i] - H4*xpredict4[:,i])\n",
    "    p4 = (np.identity(state_vec_dim)-K4) * p4"
   ]
  },
  {
   "cell_type": "code",
   "execution_count": 74,
   "metadata": {
    "collapsed": false
   },
   "outputs": [
    {
     "data": {
      "image/png": "[encoded data removed]",
      "text/plain": [
       "<matplotlib.figure.Figure at 0x9335550>"
      ]
     },
     "metadata": {},
     "output_type": "display_data"
    },
    {
     "data": {
      "image/png": "[encoded data removed]",
      "text/plain": [
       "<matplotlib.figure.Figure at 0x9791e10>"
      ]
     },
     "metadata": {},
     "output_type": "display_data"
    }
   ],
   "source": [
    "figs = k.plot_results()\n",
    "plt.show()"
   ]
  },
  {
   "cell_type": "code",
   "execution_count": null,
   "metadata": {
    "collapsed": true
   },
   "outputs": [],
   "source": []
  }
 ],
 "metadata": {
  "kernelspec": {
   "display_name": "Python 2",
   "language": "python",
   "name": "python2"
  },
  "language_info": {
   "codemirror_mode": {
    "name": "ipython",
    "version": 2
   },
   "file_extension": ".py",
   "mimetype": "text/x-python",
   "name": "python",
   "nbconvert_exporter": "python",
   "pygments_lexer": "ipython2",
   "version": "2.7.5"
  }
 },
 "nbformat": 4,
 "nbformat_minor": 0
}
