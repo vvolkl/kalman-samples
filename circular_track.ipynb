{
 "cells": [
  {
   "cell_type": "markdown",
   "metadata": {},
   "source": [
    "# Kalman Filter: Circular track"
   ]
  },
  {
   "cell_type": "code",
   "execution_count": 1,
   "metadata": {
    "attributes": {
     "classes": [],
     "id": "",
     "n": "1"
    },
    "collapsed": false
   },
   "outputs": [
    {
     "name": "stdout",
     "output_type": "stream",
     "text": [
      "Using matplotlib backend: Qt4Agg\n",
      "Populating the interactive namespace from numpy and matplotlib\n"
     ]
    }
   ],
   "source": [
    "%pylab --no-import-all\n",
    "from __future__ import division, print_function, generators\n",
    "import  numpy as np\n",
    "import kalman as k"
   ]
  },
  {
   "cell_type": "code",
   "execution_count": 2,
   "metadata": {
    "attributes": {
     "classes": [],
     "id": "",
     "n": "2"
    },
    "collapsed": true
   },
   "outputs": [],
   "source": [
    "%matplotlib inline"
   ]
  },
  {
   "cell_type": "code",
   "execution_count": null,
   "metadata": {
    "collapsed": true
   },
   "outputs": [],
   "source": [
    "# %load kalman.py\n",
    "\n",
    "import numpy as np\n",
    "import matplotlib.pyplot as plt\n",
    "\n",
    "\n",
    "\n",
    "def kalman_predict( A, # transition matrix \n",
    "            r, # measurement error matrix\n",
    "            H, # transformation matrix from state vector to measurement\n",
    "            p, # initial variance on prediction\n",
    "            xkal, # estimated state vector\n",
    "            xpredict, # predicted state vector\n",
    "            xmeas): # measurements\n",
    "    for i in range(1, xkal.shape[1]): # for each measurement do \n",
    "        # prediction: recursive formula\n",
    "        xpredict[:, i] = np.dot(A, xkal[:, i - 1])\n",
    "        # predict covariance  \n",
    "        p = A*p*A.T\n",
    "        # construct kalman gain matrix according to prediction equations\n",
    "        # higher gain leads to higher influence of measurement,\n",
    "        # lower gain to higher influence of predicion\n",
    "        K = np.dot(p*H.T, np.linalg.inv(H*p*H.T + r))\n",
    "        # construct estimate from prediction and gain \n",
    "        xkal[:, i] = xpredict[:, i] + K*(xmeas[:, i] - H*xpredict[:, i])\n",
    "        # update covariance with gain\n",
    "        p = (np.identity(K.shape[0]) - K * H) * p\n",
    "    return xkal, xpredict\n",
    "\n",
    "def plot_results(xkal, xpredict, xmeas, xtrue):\n",
    "    fig1 = plt.figure()\n",
    "    ax1 = plt.axes()\n",
    "    plt.plot(xtrue, 'b-', label = 'True')\n",
    "    plt.plot(xmeas[0].T, 'rx', label = 'Measurement')\n",
    "    plt.plot(xpredict[0].T, 'g.',  label = 'Prediction')\n",
    "    plt.plot(xkal[0].T, 'ko', label = 'Kalman')\n",
    "    plt.xlabel('Iteration')\n",
    "    plt.ylabel('X')\n",
    "\n",
    "    fig2 = plt.figure()\n",
    "    ax2 = plt.axes()\n",
    "    #plt.axhline(v)\n",
    "    plt.axhline(np.mean(xmeas[1]))\n",
    "    plt.plot(xpredict[1].T, 'g.',  label = 'Prediction')\n",
    "    plt.plot(xmeas[1].T, 'rx', label = 'Measurement')\n",
    "    plt.plot(xkal[1].T, 'ko', label = 'Kalman')\n",
    "    plt.xlabel('Iteration')\n",
    "    plt.ylabel('Velocity')\n",
    "    return [[fig1, fig2], [ax1, ax2]]\n"
   ]
  },
  {
   "cell_type": "markdown",
   "metadata": {},
   "source": [
    "## Global parametrization\n",
    "For simplicity take only radius of circle and some transposition of the origin along x-axis"
   ]
  },
  {
   "cell_type": "code",
   "execution_count": 11,
   "metadata": {
    "attributes": {
     "classes": [],
     "id": "",
     "n": "86"
    },
    "collapsed": true
   },
   "outputs": [],
   "source": [
    "dt = 0.2\n",
    "# final time for track\n",
    "T = 2* np.pi\n",
    "# number of measurements\n",
    "N = int(T / dt)\n",
    "# initial position\n",
    "x0 = 100\n",
    "# position, velocity and acceleration\n",
    "state_vec_dim = 2\n",
    "# parabola with some curvature g \n",
    "\n",
    "# initial velocity / slope\n",
    "\n",
    "# errors\n",
    "sigma_pos = 5e-2\n",
    "sigma_vel = 2\n",
    "sigma_acc = 2\n",
    "\n",
    "_t = np.linspace(0, T, N)\n",
    "\n",
    "xtrue5  = np.matrix([np.cos(_t), np.sin(_t)])"
   ]
  },
  {
   "cell_type": "code",
   "execution_count": 12,
   "metadata": {
    "attributes": {
     "classes": [],
     "id": "",
     "n": "87"
    },
    "collapsed": false
   },
   "outputs": [
    {
     "data": {
      "text/plain": [
       "<matplotlib.text.Text at 0x5a01510>"
      ]
     },
     "execution_count": 12,
     "metadata": {},
     "output_type": "execute_result"
    },
    {
     "data": {
      "image/png": "[encoded data removed]",
      "text/plain": [
       "<matplotlib.figure.Figure at 0x5670250>"
      ]
     },
     "metadata": {},
     "output_type": "display_data"
    }
   ],
   "source": [
    "fig = plt.figure(figsize=(6,6))\n",
    "ax = plt.axes()\n",
    "plt.plot(xtrue5[0].T, xtrue5[1].T, marker='o')\n",
    "plt.title('true track')\n",
    "plt.xlabel('x')\n",
    "plt.ylabel('y')"
   ]
  },
  {
   "cell_type": "code",
   "execution_count": 16,
   "metadata": {
    "attributes": {
     "classes": [],
     "id": "",
     "n": "88"
    },
    "collapsed": false
   },
   "outputs": [
    {
     "name": "stdout",
     "output_type": "stream",
     "text": [
      "[[-0.01282116  0.00385782 -0.11291334  0.01343879 -0.05923763  0.05295829  0.01914449 -0.02324903 -0.02898462 -0.06693767 -0.12141843\n",
      "   0.01379277 -0.0222652  -0.08302272  0.05347262 -0.05772489  0.01824422  0.00644814 -0.0045146   0.05864614  0.04727607  0.02968315\n",
      "   0.01052832  0.04989527 -0.05474108  0.04615936 -0.00948958  0.0452567   0.02754501 -0.04067632  0.02084451]\n",
      " [-0.05577353  0.10258571  0.02342902 -0.04878162  0.01722768  0.07995411  0.07020004 -0.0019743   0.0084293   0.00292858 -0.08900512\n",
      "  -0.03175834 -0.03381359 -0.0345302   0.0409964   0.01509011  0.11899093 -0.0130336  -0.0281497   0.0119734  -0.02914381 -0.07981381\n",
      "   0.06410857  0.08654757 -0.02080442 -0.05131344 -0.04982181 -0.06054845  0.04052883 -0.0575689  -0.0723237 ]]\n"
     ]
    },
    {
     "data": {
      "text/plain": [
       "<matplotlib.text.Text at 0x6675e90>"
      ]
     },
     "execution_count": 16,
     "metadata": {},
     "output_type": "execute_result"
    },
    {
     "data": {
      "image/png": "[encoded data removed]",
      "text/plain": [
       "<matplotlib.figure.Figure at 0x5c25790>"
      ]
     },
     "metadata": {},
     "output_type": "display_data"
    }
   ],
   "source": [
    "# add noise\n",
    "measurement_noise = np.random.normal(loc=0, scale=sigma_pos, size=xtrue5.shape)\n",
    "print(measurement_noise)\n",
    "xmeas4 = xtrue5 + measurement_noise\n",
    "fig = plt.figure(figsize=(6,6))\n",
    "ax = plt.axes()\n",
    "plt.plot(xmeas4[0].T, xmeas4[1].T, marker='o')\n",
    "plt.title('noisy measurements of track')\n",
    "plt.xlabel('x')\n",
    "plt.ylabel('y')"
   ]
  },
  {
   "cell_type": "code",
   "execution_count": 18,
   "metadata": {
    "attributes": {
     "classes": [],
     "id": "",
     "n": "84"
    },
    "collapsed": false
   },
   "outputs": [
    {
     "data": {
      "text/plain": [
       "<matplotlib.text.Text at 0x687bf90>"
      ]
     },
     "execution_count": 18,
     "metadata": {},
     "output_type": "execute_result"
    },
    {
     "data": {
      "image/png": "[encoded data removed]",
      "text/plain": [
       "<matplotlib.figure.Figure at 0x4e1e8d0>"
      ]
     },
     "metadata": {},
     "output_type": "display_data"
    },
    {
     "data": {
      "image/png": "[encoded data removed]",
      "text/plain": [
       "<matplotlib.figure.Figure at 0x70f5890>"
      ]
     },
     "metadata": {},
     "output_type": "display_data"
    },
    {
     "data": {
      "image/png": "[encoded data removed]",
      "text/plain": [
       "<matplotlib.figure.Figure at 0x71ef550>"
      ]
     },
     "metadata": {},
     "output_type": "display_data"
    }
   ],
   "source": [
    "\n",
    "# evaluate non-linear track model (more expensive than linear expansion!)\n",
    "def h_k(p_k, k):\n",
    "    \"\"\"\n",
    "    Kalman filter auxiliary function: Map state vector p_k at surface k\n",
    "    to measurement space. In this simple example the cartesian coordinates\n",
    "    of a circular motion with given radius and origin offset are evaluated.\n",
    "    \n",
    "    Parameters\n",
    "    ----------\n",
    "    \n",
    "    p_k: array-like\n",
    "            state vector parametrizing the track\n",
    "    k:   integer\n",
    "            float\n",
    "    \n",
    "    Returns\n",
    "    -------\n",
    "    \n",
    "    m_k: array\n",
    "            measurement at surface k\n",
    "    \"\"\"\n",
    "    return np.array([[ p_k[0, 0] *  np.cos(k) + p_k[1, 0], # x coordinate of point \n",
    "    #on circle  with radius p_k[0] and x_axis offset p_k[1]\n",
    "                      p_k[0, 0] * np.sin(k)]]).T # y_coordinate\n",
    "\n",
    "\n",
    "xpredict4 = np.matrix (np.linspace(0,T,N*state_vec_dim).reshape((state_vec_dim, N)))\n",
    "xkal4 = np.matrix (np.linspace(0,T,N*state_vec_dim).reshape((state_vec_dim, N)))\n",
    "# initial position -- deliberately slightly off the real values radius=1, x-offset=0\n",
    "xpredict4[:,0] = xkal4[:,0] = np.array([[1.1], [0.1]]) # np.array ( [[xmeas4[0,0]   ], [xmeas4[1,0]] ] )\n",
    "# initial variance on prediction\n",
    "p4 = 0.5 *  np.matrix ( [[2, 0],\n",
    "                  [0, 2]] )\n",
    "# measurement error\n",
    "r4 = 1e-1  * np.matrix([[sigma_pos, 0],\n",
    "                [0, sigma_pos]])\n",
    "# prediction matrix\n",
    "# global track parameters do not change in this example\n",
    "A5 = np.matrix ( [[1, 0],\n",
    "                [0, 1]] )\n",
    "# approx. Jacobian of h_k\n",
    "H4 = 1e-3 *  np.matrix ([[1, 1],\n",
    "                 [1, 0]] )\n",
    "for i in range(1,N):\n",
    "    # prediction: recursive formula\n",
    "    xpredict4[:,i] = np.dot(A5, xkal4[:,i-1] )\n",
    "    p4 = A5*p4*A5.T\n",
    "    K4 = p4*H4.T * np.linalg.inv(H4*p4*H4.T+r4)\n",
    "    _resid = (np.matrix(xmeas4[:,i]) - h_k(xpredict4[:,i], _t[i]))\n",
    "    xkal4[:,i] = xpredict4[:,i] + K4 * _resid \n",
    "    p4 = (np.identity(state_vec_dim)-K4 * H4) * p4\n",
    "    \n",
    "fig1 = plt.figure()\n",
    "ax1 = plt.axes()\n",
    "plt.title('state space')\n",
    "plt.plot(xpredict4[0].T, 'g.',  label = 'Prediction')\n",
    "plt.plot(xkal4[0].T, 'ko', label = 'Kalman')\n",
    "plt.xlabel('Iteration')\n",
    "plt.ylabel('Radius')\n",
    "fig2 = plt.figure()\n",
    "ax2 = plt.axes()\n",
    "#plt.plot(xmeas4[1].T, 'rx', label = 'Measurement')\n",
    "plt.plot(xpredict4[1].T, 'g.',  label = 'Prediction')\n",
    "plt.plot(xkal4[1].T, 'ko', label = 'Kalman')\n",
    "plt.xlabel('Iteration')\n",
    "plt.ylabel('X-axis offset')\n",
    "\n",
    "\n",
    "\n",
    "plt.figure()\n",
    "ax = plt.axes\n",
    "plt.plot(xmeas4[0].T, xmeas4[1].T, 'rx', label='Measurement')\n",
    "for i in range(N):\n",
    "    _plot_data =h_k(xpredict4[:, i], _t[i])\n",
    "    plt.plot(_plot_data[0], _plot_data[1], 'ko')\n",
    "plt.title('measurement space')\n",
    "plt.xlabel('x')\n",
    "plt.ylabel('y')"
   ]
  },
  {
   "cell_type": "code",
   "execution_count": null,
   "metadata": {
    "collapsed": true
   },
   "outputs": [],
   "source": []
  }
 ],
 "metadata": {
  "kernelspec": {
   "display_name": "Python 2",
   "language": "python",
   "name": "python2"
  },
  "language_info": {
   "codemirror_mode": {
    "name": "ipython",
    "version": 2
   },
   "file_extension": ".py",
   "mimetype": "text/x-python",
   "name": "python",
   "nbconvert_exporter": "python",
   "pygments_lexer": "ipython2",
   "version": "2.7.5"
  }
 },
 "nbformat": 4,
 "nbformat_minor": 0
}
