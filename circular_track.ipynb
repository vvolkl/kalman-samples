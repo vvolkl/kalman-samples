{
 "cells": [
  {
   "cell_type": "markdown",
   "metadata": {},
   "source": [
    "# Kalman Filter: Circular track"
   ]
  },
  {
   "cell_type": "code",
   "execution_count": 1,
   "metadata": {
    "attributes": {
     "classes": [],
     "id": "",
     "n": "1"
    },
    "collapsed": false
   },
   "outputs": [
    {
     "name": "stdout",
     "output_type": "stream",
     "text": [
      "Using matplotlib backend: Qt4Agg\n",
      "Populating the interactive namespace from numpy and matplotlib\n"
     ]
    }
   ],
   "source": [
    "%pylab --no-import-all\n",
    "from __future__ import division, print_function, generators\n",
    "import  numpy as np\n",
    "import kalman as k"
   ]
  },
  {
   "cell_type": "code",
   "execution_count": 2,
   "metadata": {
    "attributes": {
     "classes": [],
     "id": "",
     "n": "2"
    },
    "collapsed": true
   },
   "outputs": [],
   "source": [
    "%matplotlib inline"
   ]
  },
  {
   "cell_type": "code",
   "execution_count": null,
   "metadata": {
    "collapsed": true
   },
   "outputs": [],
   "source": [
    "# %load kalman.py\n",
    "\n",
    "import numpy as np\n",
    "import matplotlib.pyplot as plt\n",
    "\n",
    "\n",
    "\n",
    "def kalman_predict( A, # transition matrix \n",
    "            r, # measurement error matrix\n",
    "            H, # transformation matrix from state vector to measurement\n",
    "            p, # initial variance on prediction\n",
    "            xkal, # estimated state vector\n",
    "            xpredict, # predicted state vector\n",
    "            xmeas): # measurements\n",
    "    for i in range(1, xkal.shape[1]): # for each measurement do \n",
    "        # prediction: recursive formula\n",
    "        xpredict[:, i] = np.dot(A, xkal[:, i - 1])\n",
    "        # predict covariance  \n",
    "        p = A*p*A.T\n",
    "        # construct kalman gain matrix according to prediction equations\n",
    "        # higher gain leads to higher influence of measurement,\n",
    "        # lower gain to higher influence of predicion\n",
    "        K = np.dot(p*H.T, np.linalg.inv(H*p*H.T + r))\n",
    "        # construct estimate from prediction and gain \n",
    "        xkal[:, i] = xpredict[:, i] + K*(xmeas[:, i] - H*xpredict[:, i])\n",
    "        # update covariance with gain\n",
    "        p = (np.identity(K.shape[0]) - K * H) * p\n",
    "    return xkal, xpredict\n",
    "\n",
    "def plot_results(xkal, xpredict, xmeas, xtrue):\n",
    "    fig1 = plt.figure()\n",
    "    ax1 = plt.axes()\n",
    "    plt.plot(xtrue, 'b-', label = 'True')\n",
    "    plt.plot(xmeas[0].T, 'rx', label = 'Measurement')\n",
    "    plt.plot(xpredict[0].T, 'g.',  label = 'Prediction')\n",
    "    plt.plot(xkal[0].T, 'ko', label = 'Kalman')\n",
    "    plt.xlabel('Iteration')\n",
    "    plt.ylabel('X')\n",
    "\n",
    "    fig2 = plt.figure()\n",
    "    ax2 = plt.axes()\n",
    "    #plt.axhline(v)\n",
    "    plt.axhline(np.mean(xmeas[1]))\n",
    "    plt.plot(xpredict[1].T, 'g.',  label = 'Prediction')\n",
    "    plt.plot(xmeas[1].T, 'rx', label = 'Measurement')\n",
    "    plt.plot(xkal[1].T, 'ko', label = 'Kalman')\n",
    "    plt.xlabel('Iteration')\n",
    "    plt.ylabel('Velocity')\n",
    "    return [[fig1, fig2], [ax1, ax2]]\n"
   ]
  },
  {
   "cell_type": "markdown",
   "metadata": {},
   "source": [
    "## Global parametrization\n",
    "For simplicity take only radius of circle and some transposition of the origin along x-axis"
   ]
  },
  {
   "cell_type": "code",
   "execution_count": 4,
   "metadata": {
    "attributes": {
     "classes": [],
     "id": "",
     "n": "86"
    },
    "collapsed": true
   },
   "outputs": [],
   "source": [
    "dt = 0.2\n",
    "# final time for track\n",
    "T = 2* np.pi\n",
    "# number of measurements\n",
    "N = int(T / dt)\n",
    "# initial position\n",
    "x0 = 100\n",
    "# position, velocity and acceleration\n",
    "state_vec_dim = 2\n",
    "# parabola with some curvature g \n",
    "\n",
    "# initial velocity / slope\n",
    "\n",
    "# errors\n",
    "sigma_pos = 1e-1\n",
    "sigma_vel = 2\n",
    "sigma_acc = 2\n",
    "\n",
    "_t = np.linspace(0, T, N)\n",
    "\n",
    "xtrue5  = np.matrix([np.cos(_t), np.sin(_t)])"
   ]
  },
  {
   "cell_type": "code",
   "execution_count": 5,
   "metadata": {
    "attributes": {
     "classes": [],
     "id": "",
     "n": "87"
    },
    "collapsed": false
   },
   "outputs": [
    {
     "data": {
      "text/plain": [
       "<matplotlib.text.Text at 0x3133250>"
      ]
     },
     "execution_count": 5,
     "metadata": {},
     "output_type": "execute_result"
    },
    {
     "data": {
      "image/png": "[encoded data removed]",
      "text/plain": [
       "<matplotlib.figure.Figure at 0x3124d90>"
      ]
     },
     "metadata": {},
     "output_type": "display_data"
    }
   ],
   "source": [
    "fig = plt.figure(figsize=(6,6))\n",
    "ax = plt.axes()\n",
    "plt.plot(xtrue5[0].T, xtrue5[1].T, marker='o')\n",
    "plt.title('true track')\n",
    "plt.xlabel('x')\n",
    "plt.ylabel('y')"
   ]
  },
  {
   "cell_type": "code",
   "execution_count": 6,
   "metadata": {
    "attributes": {
     "classes": [],
     "id": "",
     "n": "88"
    },
    "collapsed": false
   },
   "outputs": [
    {
     "name": "stdout",
     "output_type": "stream",
     "text": [
      "[[-0.00186949 -0.00165289 -0.05438036  0.02307008  0.00696089  0.12804233 -0.0141135  -0.05447923 -0.14487569 -0.08646388  0.02097936\n",
      "   0.06969986 -0.03696515  0.02760423 -0.06634864  0.18776433 -0.24732138 -0.00376835  0.06230396 -0.06139495  0.06555515 -0.00390516\n",
      "   0.26578517  0.06901949  0.05789526  0.10713219 -0.11219647  0.00959014  0.00096736 -0.12556745  0.08668742]\n",
      " [-0.1838165   0.05030095  0.10300939  0.01426758  0.09771109 -0.12374994 -0.01602631 -0.12783165 -0.0727591  -0.05592216  0.07441941\n",
      "   0.12072717  0.06088535  0.07817896 -0.04027887 -0.05190209 -0.02829123  0.15627803 -0.01927908 -0.05610851 -0.0316539  -0.08428733\n",
      "  -0.01611289 -0.01833833 -0.07083373  0.08910053  0.04905525  0.03576607  0.08972585 -0.05969728  0.11400727]]\n"
     ]
    },
    {
     "data": {
      "text/plain": [
       "<matplotlib.text.Text at 0x3478090>"
      ]
     },
     "execution_count": 6,
     "metadata": {},
     "output_type": "execute_result"
    },
    {
     "data": {
      "image/png": "[encoded data removed]",
      "text/plain": [
       "<matplotlib.figure.Figure at 0x3124750>"
      ]
     },
     "metadata": {},
     "output_type": "display_data"
    }
   ],
   "source": [
    "# add noise\n",
    "measurement_noise = np.random.normal(loc=0, scale=sigma_pos, size=xtrue5.shape)\n",
    "print(measurement_noise)\n",
    "xmeas4 = xtrue5 + measurement_noise\n",
    "fig = plt.figure(figsize=(6,6))\n",
    "ax = plt.axes()\n",
    "plt.plot(xmeas4[0].T, xmeas4[1].T, marker='o')\n",
    "plt.title('noisy measurements of track')\n",
    "plt.xlabel('x')\n",
    "plt.ylabel('y')"
   ]
  },
  {
   "cell_type": "code",
   "execution_count": 9,
   "metadata": {
    "attributes": {
     "classes": [],
     "id": "",
     "n": "84"
    },
    "collapsed": false
   },
   "outputs": [
    {
     "name": "stdout",
     "output_type": "stream",
     "text": [
      "[[  1.10000000e+00   1.16704371e+00   1.23450505e+00   1.09848232e+00   1.10813186e+00   9.91905258e-01   9.94136293e-01   9.74902443e-01\n",
      "    9.84767620e-01   9.87981040e-01   9.93273647e-01   9.95188453e-01   1.00105905e+00   1.00039590e+00   1.00377991e+00   9.91004804e-01\n",
      "    1.00527444e+00   1.00067667e+00   9.98620555e-01   1.00224422e+00   1.00253386e+00   1.00646350e+00   1.00871519e+00   1.01009460e+00\n",
      "    1.01364448e+00   1.01251095e+00   1.00649695e+00   1.00547216e+00   1.00368669e+00   9.99317288e-01   1.00212613e+00]\n",
      " [  1.00000000e-01  -1.62422082e-01  -2.48082008e-01  -9.89818469e-02  -9.71045907e-02   2.68194415e-02   1.88735672e-02   2.02496211e-02\n",
      "   -5.83950365e-03  -1.66904315e-02  -1.53093062e-02  -8.46670681e-03  -1.20883919e-02  -8.91323634e-03  -1.29851959e-02  -2.10090613e-04\n",
      "   -1.44313571e-02  -1.43028371e-02  -1.04413638e-02  -1.23373018e-02  -8.31805830e-03  -7.10211644e-03   5.86741802e-03   8.88284059e-03\n",
      "    1.15142589e-02   1.48666118e-02   8.80391994e-03   8.52871506e-03   7.95419331e-03   3.07666253e-03   5.88550862e-03]]\n",
      "(31, 2, 1)\n"
     ]
    },
    {
     "data": {
      "image/png": "[encoded data removed]",
      "text/plain": [
       "<matplotlib.figure.Figure at 0x3e47510>"
      ]
     },
     "metadata": {},
     "output_type": "display_data"
    },
    {
     "data": {
      "image/png": "[encoded data removed]",
      "text/plain": [
       "<matplotlib.figure.Figure at 0x41621d0>"
      ]
     },
     "metadata": {},
     "output_type": "display_data"
    },
    {
     "data": {
      "image/png": "[encoded data removed]",
      "text/plain": [
       "<matplotlib.figure.Figure at 0x42e7ed0>"
      ]
     },
     "metadata": {},
     "output_type": "display_data"
    }
   ],
   "source": [
    "\n",
    "\n",
    "xpredict4 = np.matrix (np.linspace(0,T,N*state_vec_dim).reshape((state_vec_dim, N)))\n",
    "xkal4 = np.matrix (np.linspace(0,T,N*state_vec_dim).reshape((state_vec_dim, N)))\n",
    "# initial position -- deliberately slightly off the real values radius=1, x-offset=0\n",
    "xpredict4[:,0] = xkal4[:,0] = np.array([[1.1], [0.1]]) # np.array ( [[xmeas4[0,0]   ], [xmeas4[1,0]] ] )\n",
    "# initial variance on prediction\n",
    "p4 = 0.5 *  np.matrix ( [[2, 0],\n",
    "                  [0, 2]] )\n",
    "# measurement error\n",
    "r4 = 1e-1  * np.matrix([[sigma_pos, 0],\n",
    "                [0, sigma_pos]])\n",
    "# prediction matrix\n",
    "# global track parameters do not change in this example\n",
    "A5 = np.matrix ( [[1, 0],\n",
    "                [0, 1]] )\n",
    "# map state vector to measurements at surface k\n",
    "H4_k = [np.matrix ([[np.cos(t), 1],\n",
    "                 [np.sin(t), 0]] ) for t in _t]\n",
    "for i in range(1,N):\n",
    "    H4 = H4_k[i]\n",
    "    # prediction: recursive formula\n",
    "    xpredict4[:,i] = np.dot(A5, xkal4[:,i-1] )\n",
    "    p4 = A5*p4*A5.T\n",
    "    K4 = p4*H4.T * np.linalg.inv(H4*p4*H4.T+r4)\n",
    "    _resid = (np.matrix(xmeas4[:,i]) - H4 * (xpredict4[:,i]))\n",
    "    xkal4[:,i] = xpredict4[:,i] + K4 * _resid \n",
    "    p4 = (np.identity(state_vec_dim)-K4 * H4) * p4\n",
    "print(xkal4)\n",
    "fig1 = plt.figure()\n",
    "ax1 = plt.axes()\n",
    "plt.plot(xpredict4[0].T, 'g.',  label = 'Prediction')\n",
    "plt.plot(xkal4[0].T, 'ko', label = 'Kalman')\n",
    "plt.xlabel('Iteration')\n",
    "plt.ylabel('Radius')\n",
    "fig2 = plt.figure()\n",
    "ax2 = plt.axes()\n",
    "plt.plot(xmeas4[1].T, 'rx', label = 'Measurement')\n",
    "plt.plot(xkal4[1].T, 'ko', label = 'Kalman')\n",
    "plt.xlabel('Iteration')\n",
    "plt.ylabel('X-axis offset')\n",
    "_plot_data = np.array([H4_k[i] * (xpredict4[:, i]) for i in range(N)])\n",
    "print(_plot_data.shape)\n",
    "\n",
    "plt.figure()\n",
    "ax = plt.axes\n",
    "plt.plot(xmeas4[0].T, xmeas4[1].T, 'rx', label='Measurement')\n",
    "for i in range(N):\n",
    "    _plot_data =H4_k[i] * (xpredict4[:, i])\n",
    "    plt.plot(_plot_data[0], _plot_data[1], 'ko')\n"
   ]
  }
 ],
 "metadata": {
  "kernelspec": {
   "display_name": "Python 2",
   "language": "python",
   "name": "python2"
  },
  "language_info": {
   "codemirror_mode": {
    "name": "ipython",
    "version": 2
   },
   "file_extension": ".py",
   "mimetype": "text/x-python",
   "name": "python",
   "nbconvert_exporter": "python",
   "pygments_lexer": "ipython2",
   "version": "2.7.5"
  }
 },
 "nbformat": 4,
 "nbformat_minor": 0
}
