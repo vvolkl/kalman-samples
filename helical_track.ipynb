{
 "cells": [
  {
   "cell_type": "markdown",
   "metadata": {},
   "source": [
    "# Kalman Filter: Helical track\n",
    "\n",
    "Extract 5 parameters ( typically longitudinal momentum, transverse momentum and and vertex position in a particle-physics context ) from a list of points (\"hits\") in 3-dimensional space."
   ]
  },
  {
   "cell_type": "code",
   "execution_count": 1,
   "metadata": {
    "attributes": {
     "classes": [],
     "id": "",
     "n": "1"
    }
   },
   "outputs": [],
   "source": [
    "%pylab --no-import-all\n",
    "#  mainly equivalent to \n",
    "#import  numpy as np\n",
    "#import matplotlib.pyplot as plt\n",
    "# allow python3 syntax\n",
    "from __future__ import division, print_function, absolute_import\n",
    "# 3d projections in plot\n",
    "from mpl_toolkits.mplot3d import Axes3D\n",
    "# local file with often used functions\n",
    "import kalman as k"
   ]
  },
  {
   "cell_type": "code",
   "execution_count": null,
   "metadata": {},
   "outputs": [],
   "source": [
    "# show contents of local file \n",
    "# functions can be called through 'import kalman'\n",
    "# %load kalman.py\n",
    "\n",
    "def kalman_predict( A, # transition matrix \n",
    "            r, # measurement error matrix\n",
    "            H, # transformation matrix from state vector to measurement\n",
    "            p, # initial variance on prediction\n",
    "            xkal, # estimated state vector\n",
    "            xpredict, # predicted state vector\n",
    "            xmeas): # measurements\n",
    "    for i in range(1, xkal.shape[1]): # for each measurement do \n",
    "        # prediction: recursive formula\n",
    "        xpredict[:, i] = np.dot(A, xkal[:, i - 1])\n",
    "        # predict covariance  \n",
    "        p = A*p*A.T\n",
    "        # construct kalman gain matrix according to prediction equations\n",
    "        # higher gain leads to higher influence of measurement,\n",
    "        # lower gain to higher influence of predicion\n",
    "        K = np.dot(p*H.T, np.linalg.inv(H*p*H.T + r))\n",
    "        # construct estimate from prediction and gain \n",
    "        xkal[:, i] = xpredict[:, i] + K*(xmeas[:, i] - H*xpredict[:, i])\n",
    "        # update covariance with gain\n",
    "        p = (np.identity(K.shape[0]) - K * H) * p\n",
    "    return xkal, xpredict\n",
    "\n",
    "def plot_results(xkal, xpredict, xmeas, xtrue):\n",
    "    fig1 = plt.figure()\n",
    "    ax1 = plt.axes()\n",
    "    plt.plot(xtrue, 'b-', label = 'True')\n",
    "    plt.plot(xmeas[0].T, 'rx', label = 'Measurement')\n",
    "    plt.plot(xpredict[0].T, 'g.',  label = 'Prediction')\n",
    "    plt.plot(xkal[0].T, 'ko', label = 'Kalman')\n",
    "    plt.xlabel('Iteration')\n",
    "    plt.ylabel('X')\n",
    "\n",
    "    fig2 = plt.figure()\n",
    "    ax2 = plt.axes()\n",
    "    #plt.axhline(v)\n",
    "    plt.axhline(np.mean(xmeas[1]))\n",
    "    plt.plot(xpredict[1].T, 'g.',  label = 'Prediction')\n",
    "    plt.plot(xmeas[1].T, 'rx', label = 'Measurement')\n",
    "    plt.plot(xkal[1].T, 'ko', label = 'Kalman')\n",
    "    plt.xlabel('Iteration')\n",
    "    plt.ylabel('Velocity')\n",
    "    return [[fig1, fig2], [ax1, ax2]]\n"
   ]
  },
  {
   "cell_type": "markdown",
   "metadata": {},
   "source": [
    "## Global parametrization\n",
    "For simplicity take only radius of circle and some transposition of the origin\n",
    "along x-axis."
   ]
  },
  {
   "cell_type": "code",
   "execution_count": 4,
   "metadata": {
    "attributes": {
     "classes": [],
     "id": "",
     "n": "4"
    }
   },
   "outputs": [],
   "source": [
    "\n",
    "dt = 0.2\n",
    "# final time for track\n",
    "T = 2 * np.pi\n",
    "# number of measurements\n",
    "N = int(T / dt)\n",
    "# position, velocity and acceleration\n",
    "state_vec_dim = 5\n",
    "# parabola with some curvature g \n",
    "# errors\n",
    "sigma_pos = 1e-1\n",
    "# initial track parameters\n",
    "true_params = (1, 1, 1, 1, 1)\n",
    "x0, y0, z0, cotTheta, q_pT = true_params \n",
    "# shorthand for array of times\n",
    "_t = np.linspace(0, T, N)\n",
    "# centered helix\n",
    "xtrue  = np.vstack(( x0 +  q_pT  * np.cos(_t), \n",
    "                    y0 +  q_pT * np.sin(_t), \n",
    "                    z0 + cotTheta * _t))\n",
    "print(xtrue)\n",
    " \n"
   ]
  },
  {
   "cell_type": "code",
   "execution_count": 5,
   "metadata": {
    "attributes": {
     "classes": [],
     "id": "",
     "n": "5"
    }
   },
   "outputs": [],
   "source": [
    "#\"\"\"\n",
    "#'''\n",
    "fig = plt.figure(figsize=(6,6))\n",
    "ax = fig.add_subplot(111, projection='3d')\n",
    "print(xtrue[0][0].squeeze().shape)\n",
    "ax.scatter(*xtrue[:,:], marker='o')\n",
    "plt.draw()\n",
    "plt.show()\n",
    "plt.plot(xtrue[0].T, xtrue[1].T)\n",
    "plt.title('true track')\n",
    "plt.xlabel('x')\n",
    "plt.ylabel('y')\n",
    "print(xtrue.shape)"
   ]
  },
  {
   "cell_type": "code",
   "execution_count": 6,
   "metadata": {
    "attributes": {
     "classes": [],
     "id": "",
     "n": "6"
    }
   },
   "outputs": [],
   "source": [
    "# add noise\n",
    "measurement_noise = np.random.normal(loc=0, scale=sigma_pos, \n",
    "                                    size=xtrue.shape)\n",
    "print(measurement_noise)\n",
    "xmeas = xtrue + measurement_noise\n",
    "fig = plt.figure(figsize=(6,6))\n",
    "ax = fig.add_subplot(111, projection='3d')\n",
    "plt.plot(xmeas[0].T, xmeas[1].T)\n",
    "plt.title('noisy measurements of track')\n",
    "plt.xlabel('x')\n",
    "plt.ylabel('y')\n",
    "#fig = plt.figure(figsize=(6,6))\n",
    "#ax = fig.add_subplot(111, projection='3d')\n",
    "print(xtrue[0][0].squeeze().shape)\n",
    "ax.scatter(*xmeas[:,:], marker='o')\n",
    "plt.draw()"
   ]
  },
  {
   "cell_type": "code",
   "execution_count": 9,
   "metadata": {
    "attributes": {
     "classes": [],
     "id": "",
     "n": "9"
    }
   },
   "outputs": [
    {
     "name": "stdout",
     "output_type": "stream",
     "text": [
      "[[  1.10000000e+00   1.16704371e+00   1.23450505e+00   1.09848232e+00   1.10813186e+00   9.91905258e-01   9.94136293e-01   9.74902443e-01\n",
      "    9.84767620e-01   9.87981040e-01   9.93273647e-01   9.95188453e-01   1.00105905e+00   1.00039590e+00   1.00377991e+00   9.91004804e-01\n",
      "    1.00527444e+00   1.00067667e+00   9.98620555e-01   1.00224422e+00   1.00253386e+00   1.00646350e+00   1.00871519e+00   1.01009460e+00\n",
      "    1.01364448e+00   1.01251095e+00   1.00649695e+00   1.00547216e+00   1.00368669e+00   9.99317288e-01   1.00212613e+00]\n",
      " [  1.00000000e-01  -1.62422082e-01  -2.48082008e-01  -9.89818469e-02  -9.71045907e-02   2.68194415e-02   1.88735672e-02   2.02496211e-02\n",
      "   -5.83950365e-03  -1.66904315e-02  -1.53093062e-02  -8.46670681e-03  -1.20883919e-02  -8.91323634e-03  -1.29851959e-02  -2.10090613e-04\n",
      "   -1.44313571e-02  -1.43028371e-02  -1.04413638e-02  -1.23373018e-02  -8.31805830e-03  -7.10211644e-03   5.86741802e-03   8.88284059e-03\n",
      "    1.15142589e-02   1.48666118e-02   8.80391994e-03   8.52871506e-03   7.95419331e-03   3.07666253e-03   5.88550862e-03]]\n",
      "(31, 2, 1)\n"
     ]
    },
    {
     "data": {
      "image/png": "[encoded data removed]",
      "text/plain": [
       "<matplotlib.figure.Figure at 0x3e47510>"
      ]
     },
     "metadata": {},
     "output_type": "display_data"
    },
    {
     "data": {
      "image/png": "[encoded data removed]",
      "text/plain": [
       "<matplotlib.figure.Figure at 0x41621d0>"
      ]
     },
     "metadata": {},
     "output_type": "display_data"
    },
    {
     "data": {
      "image/png": "[encoded data removed]",
      "text/plain": [
       "<matplotlib.figure.Figure at 0x42e7ed0>"
      ]
     },
     "metadata": {},
     "output_type": "display_data"
    }
   ],
   "source": [
    "\n",
    "# predicted state vectors for each measurement \n",
    "xpredict = np.linspace(0, T, N * state_vec_dim).reshape((state_vec_dim, N))\n",
    "# filtered state vectors for each measurement\n",
    "xkal = np.linspace(0, T, N * state_vec_dim).reshape((state_vec_dim, N))\n",
    "# set initial values\n",
    "# the construction\n",
    "for _i, _par in enumerate(true_params):\n",
    "    xpredict[_i, 0] = _par + 0.1\n",
    "    xkal[_i, 0] = _par + 0.1\n",
    "# initial variance on prediction\n",
    "p = np.identity(state_vec_dim)\n",
    "# measurement error\n",
    "r = sigma_pos * np.identity(xmeas.shape[0])\n",
    "# prediction matrix\n",
    "# global track parameters do not change in this example\n",
    "A = np.identity(state_vec_dim)\n",
    "# map state vector to measurements at surface k\n",
    "H_k = [np.array([[1, 0, 0, 0, np.cos(t)],\n",
    "                   [0, 1, 0, 0, np.sin(t)],\n",
    "                   [0, 0, 1, t, 0]] ) for t in _t]\n",
    "for i in range(1, N):\n",
    "    H = H_k[i]\n",
    "    # prediction: recursive formula\n",
    "    xpredict[:, i] = np.dot(A, xkal[:, i - 1])\n",
    "    p = np.dot(np.dot(A, p), A.T)\n",
    "    K = np.dot(np.dot(p, H.T), \n",
    "            np.linalg.inv(np.dot(np.dot(H, p), H.T) + r))\n",
    "    #print(_resid.shape)\n",
    "    #print(xmeas4[:,i].shape)\n",
    "    #print(K4.shape)\n",
    "    #print(( K4 *  _resid).shape)\n",
    "    #print( xpredict4[:, i].shape) \n",
    "    #print((H4 * np.matrix(xpredict[:,i])).shape)\n",
    "    #_resid = ((np.array([xmeas[:,i]]).T - H * np.matrix(xpredict[:,i])))\n",
    "    #xkal[:,i] = xpredict[:,i] + K * _resid \n",
    "    xkal[:, i] = xpredict[:, i] + np.dot(K, (xmeas[:, i] - np.dot(H, xpredict[:, i])))\n",
    "    p = np.dot(np.eye(K.shape[0]) - np.dot(K, H), p)\n",
    "print(xkal)\n",
    "fig1 = plt.figure()\n",
    "ax1 = plt.axes()\n",
    "plt.plot(xpredict[0].T, 'g.',  label = 'Prediction')\n",
    "plt.plot(xkal[0].T, 'ko', label = 'Kalman')\n",
    "plt.xlabel('Iteration')\n",
    "plt.ylabel('Radius')\n",
    "fig2 = plt.figure()\n",
    "ax2 = plt.axes()\n",
    "plt.plot(xmeas[1].T, 'rx', label = 'Measurement')\n",
    "plt.plot(xkal[1].T, 'ko', label = 'Kalman')\n",
    "plt.xlabel('Iteration')\n",
    "plt.ylabel('X-axis offset')\n",
    "_plot_data = np.array([np.dot(H_k[i], xpredict[:, i]) for i in range(N)])\n",
    "print(_plot_data.shape)\n",
    "\n",
    "plt.figure()\n",
    "ax = plt.axes\n",
    "plt.plot(xmeas[0].T, xmeas[1].T, 'rx', label='Measurement')\n",
    "for i in range(N):\n",
    "    _plot_data = np.dot(H_k[i], xpredict[:, i])\n",
    "    plt.plot(_plot_data[0], _plot_data[1], 'ko')\n",
    "\n",
    "fig = plt.figure(figsize=(6,6))\n",
    "ax = fig.add_subplot(111, projection='3d')\n",
    "plt.plot(xmeas[0].T, xmeas[1].T, marker='o')\n",
    "plt.title('noisy measurements of track')\n",
    "plt.xlabel('x')\n",
    "plt.ylabel('y')\n",
    "#fig = plt.figure(figsize=(6,6))\n",
    "#ax = fig.add_subplot(111, projection='3d')\n",
    "print(xtrue[0][0].squeeze().shape)\n",
    "ax.scatter(*xmeas[:,:], marker='o')\n",
    "for i in range(N):\n",
    "    _plot_data = np.dot(H_k[i], xpredict[:, i])\n",
    "    print(_plot_data)\n",
    "    ax.scatter(*_plot_data, marker='<', color='black')\n",
    "plt.draw()"
   ]
  }
 ],
 "metadata": {},
 "nbformat": 4,
 "nbformat_minor": 0
}
